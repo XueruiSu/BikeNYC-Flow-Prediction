{
 "cells": [
  {
   "cell_type": "code",
   "execution_count": 1,
   "outputs": [],
   "source": [
    "import h5py\n",
    "import torch\n",
    "import numpy as np\n",
    "import random\n",
    "from IPython import display\n",
    "from matplotlib import pyplot as plt\n",
    "import torch.utils.data as Data\n",
    "from PIL import Image\n",
    "import os\n",
    "from torch import nn\n",
    "import torch.optim as optim\n",
    "from torch.nn import init\n",
    "import torch.nn.functional as F\n",
    "import time\n",
    "import pandas as pd\n",
    "from sklearn.utils import shuffle\n",
    "import math\n",
    "from sklearn.metrics import mean_squared_error as mse, mean_absolute_error as mae\n",
    "#plt.switch_backend('agg')"
   ],
   "metadata": {
    "collapsed": false,
    "pycharm": {
     "name": "#%%\n"
    }
   }
  },
  {
   "cell_type": "code",
   "execution_count": 2,
   "outputs": [
    {
     "name": "stdout",
     "output_type": "stream",
     "text": [
      "date: \n",
      "b'2014040101'\n",
      " shape:(4392,) \n",
      " in_flow:\n",
      "[[0. 0. 1. 0. 0. 0. 0. 0.]\n",
      " [0. 1. 1. 4. 1. 1. 0. 0.]\n",
      " [0. 0. 2. 5. 0. 2. 2. 0.]\n",
      " [0. 0. 2. 0. 0. 0. 0. 0.]\n",
      " [0. 1. 3. 1. 4. 2. 0. 0.]\n",
      " [0. 3. 3. 6. 3. 0. 0. 0.]\n",
      " [0. 2. 6. 5. 5. 0. 0. 0.]\n",
      " [0. 6. 3. 8. 1. 0. 0. 0.]\n",
      " [0. 2. 0. 2. 0. 0. 0. 0.]\n",
      " [3. 4. 5. 0. 1. 0. 1. 0.]\n",
      " [0. 2. 2. 1. 0. 0. 2. 1.]\n",
      " [1. 1. 0. 0. 0. 1. 0. 0.]\n",
      " [1. 0. 0. 1. 0. 0. 0. 0.]\n",
      " [0. 0. 0. 0. 0. 3. 1. 0.]\n",
      " [0. 0. 0. 1. 2. 0. 0. 0.]\n",
      " [0. 0. 0. 0. 1. 0. 0. 1.]] \n",
      " out_flow: \n",
      "[[0. 0. 0. 1. 0. 0. 0. 0.]\n",
      " [0. 0. 0. 3. 2. 1. 0. 0.]\n",
      " [0. 0. 0. 3. 0. 1. 0. 0.]\n",
      " [0. 1. 1. 2. 1. 0. 0. 0.]\n",
      " [0. 4. 2. 1. 2. 0. 0. 0.]\n",
      " [0. 1. 5. 5. 3. 0. 0. 0.]\n",
      " [0. 2. 5. 3. 4. 0. 0. 0.]\n",
      " [0. 2. 4. 7. 0. 0. 0. 0.]\n",
      " [1. 1. 2. 9. 1. 0. 0. 0.]\n",
      " [1. 1. 2. 2. 1. 0. 2. 0.]\n",
      " [1. 2. 2. 0. 0. 0. 0. 1.]\n",
      " [0. 1. 0. 0. 0. 0. 0. 0.]\n",
      " [0. 0. 0. 0. 1. 0. 0. 0.]\n",
      " [0. 0. 0. 2. 1. 0. 1. 0.]\n",
      " [0. 0. 0. 0. 1. 2. 0. 0.]\n",
      " [0. 0. 0. 0. 1. 0. 0. 0.]]\n",
      "(4392, 2, 16, 8)\n"
     ]
    }
   ],
   "source": [
    "f_data = h5py.File(\"./BikeNYC/NYC14_M16x8_T60_NewEnd.h5\")\n",
    "BikeNYC_date = f_data['date']\n",
    "BikeNYC_data = f_data['data']\n",
    "print(f'date: \\n{BikeNYC_date[0]}\\n shape:{BikeNYC_date.shape} \\n in_flow:\\n{BikeNYC_data[0][0]} \\n out_flow: \\n{BikeNYC_data[0][1]}')\n",
    "print(BikeNYC_data.shape)"
   ],
   "metadata": {
    "collapsed": false,
    "pycharm": {
     "name": "#%%\n"
    }
   }
  },
  {
   "cell_type": "code",
   "execution_count": 3,
   "outputs": [
    {
     "name": "stdout",
     "output_type": "stream",
     "text": [
      "(4392, 16, 16)\n",
      "[[0. 0. 1. 0. 0. 0. 0. 0. 0. 0. 0. 1. 0. 0. 0. 0.]\n",
      " [0. 1. 1. 4. 1. 1. 0. 0. 0. 0. 0. 3. 2. 1. 0. 0.]\n",
      " [0. 0. 2. 5. 0. 2. 2. 0. 0. 0. 0. 3. 0. 1. 0. 0.]\n",
      " [0. 0. 2. 0. 0. 0. 0. 0. 0. 1. 1. 2. 1. 0. 0. 0.]\n",
      " [0. 1. 3. 1. 4. 2. 0. 0. 0. 4. 2. 1. 2. 0. 0. 0.]\n",
      " [0. 3. 3. 6. 3. 0. 0. 0. 0. 1. 5. 5. 3. 0. 0. 0.]\n",
      " [0. 2. 6. 5. 5. 0. 0. 0. 0. 2. 5. 3. 4. 0. 0. 0.]\n",
      " [0. 6. 3. 8. 1. 0. 0. 0. 0. 2. 4. 7. 0. 0. 0. 0.]\n",
      " [0. 2. 0. 2. 0. 0. 0. 0. 1. 1. 2. 9. 1. 0. 0. 0.]\n",
      " [3. 4. 5. 0. 1. 0. 1. 0. 1. 1. 2. 2. 1. 0. 2. 0.]\n",
      " [0. 2. 2. 1. 0. 0. 2. 1. 1. 2. 2. 0. 0. 0. 0. 1.]\n",
      " [1. 1. 0. 0. 0. 1. 0. 0. 0. 1. 0. 0. 0. 0. 0. 0.]\n",
      " [1. 0. 0. 1. 0. 0. 0. 0. 0. 0. 0. 0. 1. 0. 0. 0.]\n",
      " [0. 0. 0. 0. 0. 3. 1. 0. 0. 0. 0. 2. 1. 0. 1. 0.]\n",
      " [0. 0. 0. 1. 2. 0. 0. 0. 0. 0. 0. 0. 1. 2. 0. 0.]\n",
      " [0. 0. 0. 0. 1. 0. 0. 1. 0. 0. 0. 0. 1. 0. 0. 0.]]\n"
     ]
    }
   ],
   "source": [
    "BikeNYC_data_square = np.concatenate((BikeNYC_data[:,0,:,:],BikeNYC_data[:,1,:,:]),axis=2)\n",
    "print(BikeNYC_data_square.shape)\n",
    "print(BikeNYC_data_square[0,:,:])"
   ],
   "metadata": {
    "collapsed": false,
    "pycharm": {
     "name": "#%%\n"
    }
   }
  },
  {
   "cell_type": "code",
   "execution_count": 4,
   "outputs": [
    {
     "name": "stdout",
     "output_type": "stream",
     "text": [
      "(3074, 16, 16) (439, 16, 16) (879, 16, 16)\n",
      "(3067, 7, 16, 16)\n",
      "(432, 7, 16, 16)\n",
      "(872, 7, 16, 16)\n",
      "(3067, 7, 256)\n",
      "(432, 7, 256)\n",
      "(872, 7, 256)\n"
     ]
    }
   ],
   "source": [
    "#读取数据集，进行划分\n",
    "def sliding_window(seq,window_size):\n",
    "    result = []\n",
    "    for i in range(seq.shape[0]- window_size):\n",
    "        result.append(seq[i: i+window_size])\n",
    "    result = np.array(result)\n",
    "    return result\n",
    "\n",
    "def MLPreshape(set):\n",
    "    set = set.reshape((set.shape[0],set.shape[1],-1))\n",
    "    return set\n",
    "\n",
    "def MLPreshape_inverse(set):\n",
    "    set = set.reshape((set.shape[0],set.shape[1],16,16))\n",
    "    return set\n",
    "\n",
    "data_num = BikeNYC_date.shape[0]\n",
    "# flow_in_num = 0\n",
    "train_seq = BikeNYC_data_square[:int(data_num*0.7),:,:]\n",
    "validation_seq = BikeNYC_data_square[int(data_num*0.7):int(data_num*0.8),:,:]\n",
    "test_seq = BikeNYC_data_square[int(data_num*0.8):,:,:]\n",
    "print(train_seq.shape,validation_seq.shape,test_seq.shape)\n",
    "\n",
    "window_size = 7\n",
    "train_set = sliding_window(train_seq, window_size)\n",
    "validation_set = sliding_window(validation_seq, window_size)\n",
    "test_set = sliding_window(test_seq, window_size)\n",
    "print(train_set.shape)\n",
    "print(validation_set.shape)\n",
    "print(test_set.shape)\n",
    "\n",
    "train_set = MLPreshape(train_set)\n",
    "validation_set = MLPreshape(validation_set)\n",
    "test_set = MLPreshape(test_set)\n",
    "\n",
    "print(train_set.shape)\n",
    "print(validation_set.shape)\n",
    "print(test_set.shape)"
   ],
   "metadata": {
    "collapsed": false,
    "pycharm": {
     "name": "#%%\n"
    }
   }
  },
  {
   "cell_type": "code",
   "execution_count": 23,
   "outputs": [],
   "source": [
    "dropout_parameter = 0\n",
    "class OutputNet(torch.nn.Module):\n",
    "    def __init__(self, state_dim, hidden_dim1, hidden_dim2, action_dim):\n",
    "        super(OutputNet, self).__init__()\n",
    "        self.fc1 = torch.nn.Linear(state_dim, hidden_dim1)\n",
    "        self.fc4 = torch.nn.LayerNorm(hidden_dim1)\n",
    "        self.fc2 = torch.nn.Linear(hidden_dim1, hidden_dim2)\n",
    "        self.fc5 = torch.nn.LayerNorm(hidden_dim2)\n",
    "        self.fc3 = torch.nn.Linear(hidden_dim2, action_dim)\n",
    "        self.fc6 = torch.nn.Dropout(dropout_parameter)\n",
    "\n",
    "    def forward(self, x):\n",
    "        x = F.leaky_relu_(self.fc1(x))\n",
    "        x = self.fc4(x)\n",
    "        x = F.leaky_relu_(self.fc2(x))\n",
    "        x = self.fc5(x)\n",
    "        x = F.leaky_relu_(self.fc3(x))\n",
    "        return self.fc6(x)\n"
   ],
   "metadata": {
    "collapsed": false,
    "pycharm": {
     "name": "#%%\n"
    }
   }
  },
  {
   "cell_type": "code",
   "execution_count": 5,
   "outputs": [],
   "source": [],
   "metadata": {
    "collapsed": false,
    "pycharm": {
     "name": "#%%\n"
    }
   }
  },
  {
   "cell_type": "code",
   "execution_count": 6,
   "metadata": {
    "pycharm": {
     "name": "#%%\n"
    }
   },
   "outputs": [],
   "source": [
    "def mape(y_true, y_pred):\n",
    "    y_true, y_pred = np.array(y_true), np.array(y_pred)\n",
    "    non_zero_index = (y_true > 0)\n",
    "    y_true = y_true[non_zero_index]\n",
    "    y_pred = y_pred[non_zero_index]\n",
    "\n",
    "    mape = np.abs((y_true - y_pred) / y_true)\n",
    "    mape[np.isinf(mape)] = 0\n",
    "    return np.mean(mape) * 100"
   ]
  },
  {
   "cell_type": "code",
   "execution_count": 7,
   "outputs": [],
   "source": [
    "def next_batch(data, batch_size):\n",
    "    data_length = data.shape[0]\n",
    "    num_batches = math.ceil(data_length / batch_size)\n",
    "    for batch_index in range(num_batches):\n",
    "        start_index = batch_index * batch_size\n",
    "        end_index = min((batch_index + 1) * batch_size, data_length)\n",
    "        yield data[start_index:end_index]"
   ],
   "metadata": {
    "collapsed": false,
    "pycharm": {
     "name": "#%%\n"
    }
   }
  },
  {
   "cell_type": "code",
   "execution_count": 30,
   "outputs": [],
   "source": [
    "class ConvolutionNet(torch.nn.Module):\n",
    "    def __init__(self):\n",
    "        super(ConvolutionNet, self).__init__()\n",
    "        self.block1 = nn.Sequential(\n",
    "                                    nn.Conv2d(6, 64, kernel_size=4, stride=2),\n",
    "                                    nn.LeakyReLU(0.02),\n",
    "                                    # nn.Dropout(dropout_parameter),\n",
    "                                    nn.BatchNorm2d(64),\n",
    "\n",
    "                                    nn.Conv2d(64,128,kernel_size=3, stride=2),\n",
    "                                    nn.LeakyReLU(0.02),\n",
    "                                    # nn.Dropout(dropout_parameter),\n",
    "                                    nn.BatchNorm2d(128),\n",
    "\n",
    "                                    nn.Conv2d(128,108,kernel_size=3, stride=1),\n",
    "                                    nn.LeakyReLU(0.02),\n",
    "                                    #\n",
    "                                    nn.BatchNorm2d(108),\n",
    "                                    # nn.Dropout(dropout_parameter)\n",
    "        )\n",
    "\n",
    "\n",
    "    def forward(self, x):\n",
    "        x = self.block1(x.view((x.shape[0],6,16,16)))\n",
    "        # print(x.shape)\n",
    "        x = x.squeeze()\n",
    "        return x"
   ],
   "metadata": {
    "collapsed": false,
    "pycharm": {
     "name": "#%%\n"
    }
   }
  },
  {
   "cell_type": "code",
   "execution_count": 24,
   "outputs": [],
   "source": [],
   "metadata": {
    "collapsed": false,
    "pycharm": {
     "name": "#%%\n"
    }
   }
  },
  {
   "cell_type": "code",
   "execution_count": 31,
   "outputs": [],
   "source": [
    "#初始化模型\n",
    "device = 'cpu'\n",
    "Convolution_Net = ConvolutionNet()\n",
    "torch_lstm = nn.LSTM(input_size=18, hidden_size=32, num_layers=1, batch_first=True)\n",
    "output_model = OutputNet(state_dim=32, hidden_dim1=64, hidden_dim2=128, action_dim=16*16)"
   ],
   "metadata": {
    "collapsed": false,
    "pycharm": {
     "name": "#%%\n"
    }
   }
  },
  {
   "cell_type": "code",
   "execution_count": 32,
   "outputs": [],
   "source": [
    "loss_func = nn.MSELoss()\n",
    "optimizer = torch.optim.Adam(list(torch_lstm.parameters()) + list(output_model.parameters()) + list(Convolution_Net.parameters()), lr=0.0001, weight_decay=1e-4)"
   ],
   "metadata": {
    "collapsed": false,
    "pycharm": {
     "name": "#%%\n"
    }
   }
  },
  {
   "cell_type": "code",
   "execution_count": 34,
   "outputs": [],
   "source": [
    "#保存打印文件\n",
    "f = open(\"./date/L2.txt\", 'a+')"
   ],
   "metadata": {
    "collapsed": false,
    "pycharm": {
     "name": "#%%\n"
    }
   }
  },
  {
   "cell_type": "code",
   "execution_count": 33,
   "outputs": [],
   "source": [
    "# 这两句只在第二次运行这个框架时运行，是为了重载文件流防止内存溢出。\n",
    "f.close()\n",
    "os.remove(\"./date/L2.txt\")"
   ],
   "metadata": {
    "collapsed": false,
    "pycharm": {
     "name": "#%%\n"
    }
   }
  },
  {
   "cell_type": "code",
   "execution_count": 35,
   "metadata": {
    "pycharm": {
     "name": "#%%\n"
    }
   },
   "outputs": [
    {
     "name": "stdout",
     "output_type": "stream",
     "text": [
      "batch 100, train_loss 379.911621,Time used 0.026997s\n",
      "***************************test_batch 100, test_rmse_loss 22.199734,test_mae_loss 10.133220,test_mape_loss 95.116871,Time used 0.073005s\n",
      "batch 200, train_loss 315.773773,Time used 0.028998s\n",
      "***************************test_batch 200, test_rmse_loss 20.242891,test_mae_loss 8.720060,test_mape_loss 77.913351,Time used 0.090999s\n",
      "batch 300, train_loss 210.265182,Time used 0.029000s\n",
      "***************************test_batch 300, test_rmse_loss 15.481140,test_mae_loss 6.064890,test_mape_loss 74.205491,Time used 0.076037s\n",
      "batch 400, train_loss 98.024826,Time used 0.044997s\n",
      "***************************test_batch 400, test_rmse_loss 11.763362,test_mae_loss 4.575298,test_mape_loss 62.169211,Time used 0.076033s\n",
      "batch 500, train_loss 95.414314,Time used 0.025986s\n",
      "***************************test_batch 500, test_rmse_loss 9.917666,test_mae_loss 3.987286,test_mape_loss 60.633019,Time used 0.082002s\n",
      "batch 600, train_loss 66.445053,Time used 0.027997s\n",
      "***************************test_batch 600, test_rmse_loss 9.043795,test_mae_loss 3.759851,test_mape_loss 56.278118,Time used 0.079000s\n",
      "batch 700, train_loss 58.573574,Time used 0.028967s\n",
      "***************************test_batch 700, test_rmse_loss 8.545642,test_mae_loss 3.596204,test_mape_loss 56.224207,Time used 0.088000s\n",
      "batch 800, train_loss 55.181702,Time used 0.029001s\n",
      "***************************test_batch 800, test_rmse_loss 8.252159,test_mae_loss 3.517393,test_mape_loss 55.889708,Time used 0.091998s\n",
      "batch 900, train_loss 48.884670,Time used 0.031000s\n",
      "***************************test_batch 900, test_rmse_loss 8.095063,test_mae_loss 3.478062,test_mape_loss 54.417169,Time used 0.093000s\n",
      "batch 1000, train_loss 55.024933,Time used 0.030999s\n",
      "***************************test_batch 1000, test_rmse_loss 8.061581,test_mae_loss 3.467718,test_mape_loss 55.051127,Time used 0.093002s\n",
      "batch 1100, train_loss 42.954613,Time used 0.029034s\n",
      "***************************test_batch 1100, test_rmse_loss 8.043666,test_mae_loss 3.460847,test_mape_loss 53.933704,Time used 0.084962s\n",
      "batch 1200, train_loss 46.402050,Time used 0.032990s\n",
      "***************************test_batch 1200, test_rmse_loss 7.910640,test_mae_loss 3.428192,test_mape_loss 54.604762,Time used 0.114041s\n",
      "batch 1300, train_loss 57.395428,Time used 0.032003s\n",
      "***************************test_batch 1300, test_rmse_loss 7.936997,test_mae_loss 3.437253,test_mape_loss 54.685261,Time used 0.084998s\n",
      "batch 1400, train_loss 51.528740,Time used 0.031006s\n",
      "***************************test_batch 1400, test_rmse_loss 7.838184,test_mae_loss 3.415285,test_mape_loss 55.163723,Time used 0.092003s\n",
      "batch 1500, train_loss 42.920391,Time used 0.029036s\n",
      "***************************test_batch 1500, test_rmse_loss 7.932545,test_mae_loss 3.438164,test_mape_loss 53.898845,Time used 0.075999s\n",
      "batch 1600, train_loss 41.098969,Time used 0.026999s\n",
      "***************************test_batch 1600, test_rmse_loss 7.817486,test_mae_loss 3.403961,test_mape_loss 54.472511,Time used 0.086001s\n",
      "batch 1700, train_loss 45.695168,Time used 0.027999s\n",
      "***************************test_batch 1700, test_rmse_loss 7.849806,test_mae_loss 3.419564,test_mape_loss 54.878891,Time used 0.086001s\n",
      "batch 1800, train_loss 53.665825,Time used 0.022999s\n",
      "***************************test_batch 1800, test_rmse_loss 7.810623,test_mae_loss 3.399745,test_mape_loss 54.843594,Time used 0.075968s\n",
      "batch 1900, train_loss 51.017441,Time used 0.056963s\n",
      "***************************test_batch 1900, test_rmse_loss 7.740612,test_mae_loss 3.387956,test_mape_loss 55.347118,Time used 0.086999s\n",
      "batch 2000, train_loss 41.081829,Time used 0.033998s\n",
      "***************************test_batch 2000, test_rmse_loss 7.767742,test_mae_loss 3.393985,test_mape_loss 54.895622,Time used 0.080000s\n",
      "batch 2100, train_loss 52.187569,Time used 0.029998s\n",
      "***************************test_batch 2100, test_rmse_loss 7.712579,test_mae_loss 3.372094,test_mape_loss 56.228572,Time used 0.072003s\n",
      "batch 2200, train_loss 48.237053,Time used 0.024001s\n",
      "***************************test_batch 2200, test_rmse_loss 7.788785,test_mae_loss 3.397033,test_mape_loss 54.967715,Time used 0.082999s\n",
      "batch 2300, train_loss 48.646191,Time used 0.027991s\n",
      "***************************test_batch 2300, test_rmse_loss 7.962022,test_mae_loss 3.444459,test_mape_loss 52.885576,Time used 0.086004s\n",
      "batch 2400, train_loss 52.290218,Time used 0.026971s\n",
      "***************************test_batch 2400, test_rmse_loss 7.719520,test_mae_loss 3.374380,test_mape_loss 54.891381,Time used 0.093997s\n",
      "batch 2500, train_loss 50.966717,Time used 0.025000s\n",
      "***************************test_batch 2500, test_rmse_loss 7.828428,test_mae_loss 3.392476,test_mape_loss 53.993823,Time used 0.083998s\n",
      "batch 2600, train_loss 51.004414,Time used 0.029000s\n",
      "***************************test_batch 2600, test_rmse_loss 7.755905,test_mae_loss 3.384063,test_mape_loss 55.402026,Time used 0.081998s\n",
      "batch 2700, train_loss 43.846371,Time used 0.028001s\n",
      "***************************test_batch 2700, test_rmse_loss 7.676273,test_mae_loss 3.368300,test_mape_loss 56.016895,Time used 0.081001s\n",
      "batch 2800, train_loss 41.009998,Time used 0.023000s\n",
      "***************************test_batch 2800, test_rmse_loss 7.785307,test_mae_loss 3.393157,test_mape_loss 54.551180,Time used 0.084001s\n",
      "batch 2900, train_loss 46.072586,Time used 0.025999s\n",
      "***************************test_batch 2900, test_rmse_loss 7.736876,test_mae_loss 3.384643,test_mape_loss 55.128371,Time used 0.073999s\n",
      "batch 3000, train_loss 41.269478,Time used 0.032004s\n",
      "***************************test_batch 3000, test_rmse_loss 7.786790,test_mae_loss 3.390562,test_mape_loss 55.037526,Time used 0.087997s\n",
      "batch 3100, train_loss 44.921448,Time used 0.081999s\n",
      "***************************test_batch 3100, test_rmse_loss 7.687503,test_mae_loss 3.366647,test_mape_loss 54.734807,Time used 0.337002s\n",
      "batch 3200, train_loss 43.341629,Time used 0.045998s\n",
      "***************************test_batch 3200, test_rmse_loss 7.756298,test_mae_loss 3.373754,test_mape_loss 53.704655,Time used 0.127000s\n",
      "batch 3300, train_loss 47.183270,Time used 0.038002s\n",
      "***************************test_batch 3300, test_rmse_loss 7.762457,test_mae_loss 3.377744,test_mape_loss 54.155764,Time used 0.120000s\n",
      "batch 3400, train_loss 42.958099,Time used 0.038997s\n",
      "***************************test_batch 3400, test_rmse_loss 7.735043,test_mae_loss 3.380916,test_mape_loss 53.558079,Time used 0.122001s\n",
      "batch 3500, train_loss 52.928509,Time used 0.048997s\n",
      "***************************test_batch 3500, test_rmse_loss 7.664729,test_mae_loss 3.341078,test_mape_loss 53.643547,Time used 0.126003s\n",
      "batch 3600, train_loss 43.361145,Time used 0.044003s\n",
      "***************************test_batch 3600, test_rmse_loss 7.720360,test_mae_loss 3.337086,test_mape_loss 53.285000,Time used 0.138000s\n",
      "batch 3700, train_loss 41.097649,Time used 0.037001s\n",
      "***************************test_batch 3700, test_rmse_loss 7.559940,test_mae_loss 3.291623,test_mape_loss 53.698560,Time used 0.121002s\n",
      "batch 3800, train_loss 37.028576,Time used 0.039003s\n",
      "***************************test_batch 3800, test_rmse_loss 7.538668,test_mae_loss 3.278026,test_mape_loss 52.815398,Time used 0.125999s\n",
      "batch 3900, train_loss 40.551075,Time used 0.036999s\n",
      "***************************test_batch 3900, test_rmse_loss 7.371023,test_mae_loss 3.206659,test_mape_loss 52.027665,Time used 0.124000s\n",
      "batch 4000, train_loss 39.830551,Time used 0.045998s\n",
      "***************************test_batch 4000, test_rmse_loss 7.311890,test_mae_loss 3.198348,test_mape_loss 50.327885,Time used 0.136002s\n",
      "batch 4100, train_loss 35.202633,Time used 0.038003s\n",
      "***************************test_batch 4100, test_rmse_loss 6.963649,test_mae_loss 3.093560,test_mape_loss 51.089394,Time used 0.147001s\n",
      "batch 4200, train_loss 32.975037,Time used 0.039001s\n",
      "***************************test_batch 4200, test_rmse_loss 6.999233,test_mae_loss 3.080384,test_mape_loss 49.526102,Time used 0.122001s\n",
      "batch 4300, train_loss 35.681866,Time used 0.036001s\n",
      "***************************test_batch 4300, test_rmse_loss 6.955737,test_mae_loss 3.072765,test_mape_loss 49.043067,Time used 0.129007s\n",
      "batch 4400, train_loss 35.923203,Time used 0.037000s\n",
      "***************************test_batch 4400, test_rmse_loss 6.847377,test_mae_loss 3.030939,test_mape_loss 49.968773,Time used 0.119002s\n",
      "batch 4500, train_loss 37.998108,Time used 0.062002s\n",
      "***************************test_batch 4500, test_rmse_loss 6.845205,test_mae_loss 3.049218,test_mape_loss 48.433543,Time used 0.150998s\n",
      "batch 4600, train_loss 31.097963,Time used 0.039001s\n",
      "***************************test_batch 4600, test_rmse_loss 6.757768,test_mae_loss 3.015948,test_mape_loss 48.909552,Time used 0.124001s\n",
      "batch 4700, train_loss 31.513321,Time used 0.038001s\n",
      "***************************test_batch 4700, test_rmse_loss 6.775633,test_mae_loss 3.011641,test_mape_loss 49.072819,Time used 0.127999s\n",
      "batch 4800, train_loss 27.744717,Time used 0.041000s\n",
      "***************************test_batch 4800, test_rmse_loss 6.615430,test_mae_loss 2.954865,test_mape_loss 49.128355,Time used 0.131005s\n",
      "batch 4900, train_loss 31.381350,Time used 0.037001s\n",
      "***************************test_batch 4900, test_rmse_loss 6.577449,test_mae_loss 2.934678,test_mape_loss 48.669911,Time used 0.118000s\n",
      "batch 5000, train_loss 31.490803,Time used 0.042992s\n",
      "***************************test_batch 5000, test_rmse_loss 6.596698,test_mae_loss 2.946983,test_mape_loss 48.676662,Time used 0.128999s\n",
      "batch 5100, train_loss 30.868280,Time used 0.038000s\n",
      "***************************test_batch 5100, test_rmse_loss 6.526977,test_mae_loss 2.916406,test_mape_loss 47.901290,Time used 0.118001s\n",
      "batch 5200, train_loss 28.821020,Time used 0.041001s\n",
      "***************************test_batch 5200, test_rmse_loss 6.564611,test_mae_loss 2.922179,test_mape_loss 47.680436,Time used 0.132000s\n",
      "batch 5300, train_loss 24.590733,Time used 0.041995s\n",
      "***************************test_batch 5300, test_rmse_loss 6.424854,test_mae_loss 2.879810,test_mape_loss 48.085631,Time used 0.136000s\n",
      "batch 5400, train_loss 28.512548,Time used 0.048998s\n",
      "***************************test_batch 5400, test_rmse_loss 6.473860,test_mae_loss 2.894275,test_mape_loss 47.882072,Time used 0.133000s\n",
      "batch 5500, train_loss 29.397730,Time used 0.042002s\n",
      "***************************test_batch 5500, test_rmse_loss 6.478504,test_mae_loss 2.911387,test_mape_loss 46.729746,Time used 0.125007s\n",
      "batch 5600, train_loss 27.279308,Time used 0.039001s\n",
      "***************************test_batch 5600, test_rmse_loss 6.398736,test_mae_loss 2.877104,test_mape_loss 47.661879,Time used 0.126003s\n",
      "batch 5700, train_loss 23.614668,Time used 0.043000s\n",
      "***************************test_batch 5700, test_rmse_loss 6.356289,test_mae_loss 2.874087,test_mape_loss 47.174790,Time used 0.130004s\n",
      "batch 5800, train_loss 26.624498,Time used 0.041003s\n",
      "***************************test_batch 5800, test_rmse_loss 6.370398,test_mae_loss 2.866815,test_mape_loss 47.689500,Time used 0.134995s\n",
      "batch 5900, train_loss 31.279789,Time used 0.039999s\n",
      "***************************test_batch 5900, test_rmse_loss 6.472163,test_mae_loss 2.909814,test_mape_loss 46.245915,Time used 0.116002s\n",
      "batch 6000, train_loss 26.634125,Time used 0.042001s\n",
      "***************************test_batch 6000, test_rmse_loss 6.412186,test_mae_loss 2.884438,test_mape_loss 46.887124,Time used 0.124000s\n",
      "batch 6100, train_loss 33.866947,Time used 0.046998s\n",
      "***************************test_batch 6100, test_rmse_loss 6.288905,test_mae_loss 2.848791,test_mape_loss 47.642210,Time used 0.122999s\n",
      "batch 6200, train_loss 30.256769,Time used 0.039001s\n",
      "***************************test_batch 6200, test_rmse_loss 6.238949,test_mae_loss 2.832480,test_mape_loss 47.853192,Time used 0.136000s\n",
      "batch 6300, train_loss 24.090330,Time used 0.043000s\n",
      "***************************test_batch 6300, test_rmse_loss 6.247433,test_mae_loss 2.845429,test_mape_loss 47.694139,Time used 0.128997s\n",
      "batch 6400, train_loss 24.578756,Time used 0.046002s\n",
      "***************************test_batch 6400, test_rmse_loss 6.196460,test_mae_loss 2.816516,test_mape_loss 47.506872,Time used 0.125999s\n",
      "batch 6500, train_loss 27.048477,Time used 0.040000s\n",
      "***************************test_batch 6500, test_rmse_loss 6.169391,test_mae_loss 2.815948,test_mape_loss 47.111763,Time used 0.126994s\n",
      "batch 6600, train_loss 26.574106,Time used 0.037999s\n",
      "***************************test_batch 6600, test_rmse_loss 6.121935,test_mae_loss 2.805558,test_mape_loss 48.686873,Time used 0.120000s\n",
      "batch 6700, train_loss 27.884327,Time used 0.045004s\n",
      "***************************test_batch 6700, test_rmse_loss 6.273345,test_mae_loss 2.853691,test_mape_loss 47.240884,Time used 0.139000s\n",
      "batch 6800, train_loss 24.752676,Time used 0.044006s\n",
      "***************************test_batch 6800, test_rmse_loss 6.249846,test_mae_loss 2.849546,test_mape_loss 46.967906,Time used 0.135004s\n",
      "batch 6900, train_loss 27.673830,Time used 0.041001s\n",
      "***************************test_batch 6900, test_rmse_loss 6.219509,test_mae_loss 2.842105,test_mape_loss 46.898518,Time used 0.121999s\n",
      "batch 7000, train_loss 24.096745,Time used 0.039998s\n",
      "***************************test_batch 7000, test_rmse_loss 6.144131,test_mae_loss 2.818107,test_mape_loss 48.173821,Time used 0.122998s\n",
      "batch 7100, train_loss 25.060549,Time used 0.049998s\n",
      "***************************test_batch 7100, test_rmse_loss 6.159459,test_mae_loss 2.817039,test_mape_loss 47.177061,Time used 0.152000s\n",
      "batch 7200, train_loss 22.837208,Time used 0.045001s\n",
      "***************************test_batch 7200, test_rmse_loss 6.146004,test_mae_loss 2.817357,test_mape_loss 47.068776,Time used 0.144997s\n",
      "batch 7300, train_loss 27.716408,Time used 0.055001s\n",
      "***************************test_batch 7300, test_rmse_loss 6.066588,test_mae_loss 2.797495,test_mape_loss 49.162689,Time used 0.144000s\n",
      "batch 7400, train_loss 23.780575,Time used 0.053002s\n",
      "***************************test_batch 7400, test_rmse_loss 6.225364,test_mae_loss 2.844704,test_mape_loss 46.870073,Time used 0.159006s\n",
      "batch 7500, train_loss 24.769001,Time used 0.045000s\n",
      "***************************test_batch 7500, test_rmse_loss 6.228522,test_mae_loss 2.834908,test_mape_loss 46.792856,Time used 0.124000s\n",
      "batch 7600, train_loss 23.540062,Time used 0.068995s\n",
      "***************************test_batch 7600, test_rmse_loss 6.142117,test_mae_loss 2.812416,test_mape_loss 47.158878,Time used 0.242000s\n",
      "batch 7700, train_loss 22.870472,Time used 0.041003s\n",
      "***************************test_batch 7700, test_rmse_loss 6.134079,test_mae_loss 2.805384,test_mape_loss 47.755536,Time used 0.121001s\n",
      "batch 7800, train_loss 22.770761,Time used 0.046004s\n",
      "***************************test_batch 7800, test_rmse_loss 5.982220,test_mae_loss 2.766409,test_mape_loss 47.892071,Time used 0.121999s\n",
      "batch 7900, train_loss 22.800049,Time used 0.052001s\n",
      "***************************test_batch 7900, test_rmse_loss 6.210030,test_mae_loss 2.828702,test_mape_loss 46.545019,Time used 0.134000s\n",
      "batch 8000, train_loss 22.280767,Time used 0.036000s\n",
      "***************************test_batch 8000, test_rmse_loss 6.026717,test_mae_loss 2.772883,test_mape_loss 47.650381,Time used 0.123001s\n",
      "batch 8100, train_loss 23.586702,Time used 0.046996s\n",
      "***************************test_batch 8100, test_rmse_loss 6.072320,test_mae_loss 2.784227,test_mape_loss 47.137418,Time used 0.146995s\n",
      "batch 8200, train_loss 21.242741,Time used 0.051001s\n",
      "***************************test_batch 8200, test_rmse_loss 6.042662,test_mae_loss 2.772794,test_mape_loss 46.799534,Time used 0.122997s\n",
      "batch 8300, train_loss 24.313427,Time used 0.050002s\n",
      "***************************test_batch 8300, test_rmse_loss 5.933467,test_mae_loss 2.739141,test_mape_loss 47.410712,Time used 0.154997s\n",
      "batch 8400, train_loss 23.593159,Time used 0.048998s\n",
      "***************************test_batch 8400, test_rmse_loss 6.197577,test_mae_loss 2.822478,test_mape_loss 46.693883,Time used 0.158003s\n",
      "batch 8500, train_loss 25.068523,Time used 0.052003s\n",
      "***************************test_batch 8500, test_rmse_loss 6.132123,test_mae_loss 2.803533,test_mape_loss 45.852814,Time used 0.154996s\n",
      "batch 8600, train_loss 25.765547,Time used 0.055001s\n",
      "***************************test_batch 8600, test_rmse_loss 6.040604,test_mae_loss 2.768177,test_mape_loss 46.818216,Time used 0.172004s\n",
      "batch 8700, train_loss 24.991495,Time used 0.057002s\n",
      "***************************test_batch 8700, test_rmse_loss 5.951871,test_mae_loss 2.737716,test_mape_loss 46.745531,Time used 0.154000s\n",
      "batch 8800, train_loss 23.240528,Time used 0.050001s\n",
      "***************************test_batch 8800, test_rmse_loss 5.919997,test_mae_loss 2.729273,test_mape_loss 46.893002,Time used 0.145998s\n",
      "batch 8900, train_loss 22.022493,Time used 0.048997s\n",
      "***************************test_batch 8900, test_rmse_loss 5.965039,test_mae_loss 2.739865,test_mape_loss 46.601392,Time used 0.159005s\n",
      "batch 9000, train_loss 23.689720,Time used 0.045998s\n",
      "***************************test_batch 9000, test_rmse_loss 5.855658,test_mae_loss 2.705260,test_mape_loss 47.371914,Time used 0.162001s\n",
      "batch 9100, train_loss 22.907701,Time used 0.046001s\n",
      "***************************test_batch 9100, test_rmse_loss 5.951442,test_mae_loss 2.732951,test_mape_loss 46.894242,Time used 0.156000s\n",
      "batch 9200, train_loss 19.728508,Time used 0.045996s\n",
      "***************************test_batch 9200, test_rmse_loss 5.922292,test_mae_loss 2.720115,test_mape_loss 46.991980,Time used 0.174003s\n",
      "batch 9300, train_loss 21.110060,Time used 0.056993s\n",
      "***************************test_batch 9300, test_rmse_loss 5.777048,test_mae_loss 2.672416,test_mape_loss 46.470862,Time used 0.157013s\n",
      "batch 9400, train_loss 20.831249,Time used 0.054001s\n",
      "***************************test_batch 9400, test_rmse_loss 5.968881,test_mae_loss 2.730186,test_mape_loss 46.030338,Time used 0.180998s\n",
      "batch 9500, train_loss 20.702301,Time used 0.048000s\n",
      "***************************test_batch 9500, test_rmse_loss 5.789446,test_mae_loss 2.674028,test_mape_loss 46.013497,Time used 0.154001s\n",
      "batch 9600, train_loss 22.120651,Time used 0.057998s\n",
      "***************************test_batch 9600, test_rmse_loss 5.704637,test_mae_loss 2.641458,test_mape_loss 46.912208,Time used 0.162000s\n",
      "batch 9700, train_loss 22.923962,Time used 0.053998s\n",
      "***************************test_batch 9700, test_rmse_loss 5.777898,test_mae_loss 2.664652,test_mape_loss 45.938533,Time used 0.159000s\n",
      "batch 9800, train_loss 20.723267,Time used 0.052999s\n",
      "***************************test_batch 9800, test_rmse_loss 5.681143,test_mae_loss 2.631970,test_mape_loss 46.261702,Time used 0.153001s\n",
      "batch 9900, train_loss 17.132618,Time used 0.054999s\n",
      "***************************test_batch 9900, test_rmse_loss 5.725244,test_mae_loss 2.638948,test_mape_loss 45.750946,Time used 0.150002s\n",
      "batch 10000, train_loss 18.145449,Time used 0.049003s\n",
      "***************************test_batch 10000, test_rmse_loss 5.810496,test_mae_loss 2.665116,test_mape_loss 45.234304,Time used 0.156996s\n",
      "batch 10100, train_loss 19.494282,Time used 0.051003s\n",
      "***************************test_batch 10100, test_rmse_loss 5.625949,test_mae_loss 2.603917,test_mape_loss 45.759973,Time used 0.158998s\n",
      "batch 10200, train_loss 21.591608,Time used 0.044999s\n",
      "***************************test_batch 10200, test_rmse_loss 5.607026,test_mae_loss 2.589851,test_mape_loss 45.985286,Time used 0.153000s\n",
      "batch 10300, train_loss 20.382902,Time used 0.049000s\n",
      "***************************test_batch 10300, test_rmse_loss 5.685127,test_mae_loss 2.621197,test_mape_loss 44.838044,Time used 0.158001s\n",
      "batch 10400, train_loss 20.328918,Time used 0.052002s\n",
      "***************************test_batch 10400, test_rmse_loss 5.534261,test_mae_loss 2.568351,test_mape_loss 45.489522,Time used 0.157007s\n",
      "batch 10500, train_loss 20.096718,Time used 0.058000s\n",
      "***************************test_batch 10500, test_rmse_loss 5.513244,test_mae_loss 2.555160,test_mape_loss 45.234365,Time used 0.160003s\n",
      "batch 10600, train_loss 17.953506,Time used 0.047998s\n",
      "***************************test_batch 10600, test_rmse_loss 5.632452,test_mae_loss 2.596884,test_mape_loss 44.619963,Time used 0.164000s\n",
      "batch 10700, train_loss 18.029848,Time used 0.048999s\n",
      "***************************test_batch 10700, test_rmse_loss 5.584253,test_mae_loss 2.575970,test_mape_loss 45.312027,Time used 0.183002s\n",
      "batch 10800, train_loss 16.559227,Time used 0.052999s\n",
      "***************************test_batch 10800, test_rmse_loss 5.572922,test_mae_loss 2.570824,test_mape_loss 44.912469,Time used 0.151999s\n",
      "batch 10900, train_loss 20.559658,Time used 0.073000s\n",
      "***************************test_batch 10900, test_rmse_loss 5.591371,test_mae_loss 2.575688,test_mape_loss 44.460475,Time used 0.153003s\n",
      "batch 11000, train_loss 19.687317,Time used 0.048002s\n",
      "***************************test_batch 11000, test_rmse_loss 5.471222,test_mae_loss 2.534778,test_mape_loss 45.292519,Time used 0.162998s\n",
      "batch 11100, train_loss 18.436089,Time used 0.053001s\n",
      "***************************test_batch 11100, test_rmse_loss 5.558611,test_mae_loss 2.565355,test_mape_loss 44.267551,Time used 0.185000s\n",
      "batch 11200, train_loss 20.249796,Time used 0.050002s\n",
      "***************************test_batch 11200, test_rmse_loss 5.519902,test_mae_loss 2.548977,test_mape_loss 44.466275,Time used 0.155000s\n",
      "batch 11300, train_loss 17.519585,Time used 0.059998s\n",
      "***************************test_batch 11300, test_rmse_loss 5.668587,test_mae_loss 2.601389,test_mape_loss 43.914305,Time used 0.178003s\n",
      "batch 11400, train_loss 17.593964,Time used 0.052006s\n",
      "***************************test_batch 11400, test_rmse_loss 5.428416,test_mae_loss 2.517093,test_mape_loss 44.568432,Time used 0.173993s\n",
      "batch 11500, train_loss 19.249510,Time used 0.056002s\n",
      "***************************test_batch 11500, test_rmse_loss 5.547395,test_mae_loss 2.553566,test_mape_loss 44.462258,Time used 0.146000s\n",
      "batch 11600, train_loss 20.296501,Time used 0.044001s\n",
      "***************************test_batch 11600, test_rmse_loss 5.391078,test_mae_loss 2.507132,test_mape_loss 44.847452,Time used 0.163003s\n",
      "batch 11700, train_loss 18.182806,Time used 0.047000s\n",
      "***************************test_batch 11700, test_rmse_loss 5.412794,test_mae_loss 2.507394,test_mape_loss 44.461628,Time used 0.169001s\n",
      "batch 11800, train_loss 19.369497,Time used 0.053001s\n",
      "***************************test_batch 11800, test_rmse_loss 5.538188,test_mae_loss 2.553086,test_mape_loss 43.653620,Time used 0.152999s\n",
      "batch 11900, train_loss 15.615857,Time used 0.075001s\n",
      "***************************test_batch 11900, test_rmse_loss 5.372242,test_mae_loss 2.498408,test_mape_loss 44.440910,Time used 0.146002s\n",
      "batch 12000, train_loss 15.758245,Time used 0.047999s\n",
      "***************************test_batch 12000, test_rmse_loss 5.417392,test_mae_loss 2.507199,test_mape_loss 44.014409,Time used 0.149999s\n",
      "The total time is 555.288005s\n"
     ]
    }
   ],
   "source": [
    "train_log = []\n",
    "test_log = []\n",
    "#开始时间\n",
    "timestart = time.time()\n",
    "trained_batches = 0 #记录多少个batch\n",
    "batch_size = 128\n",
    "for epoch in range(500):\n",
    "\n",
    "    total_1oss = 0 #记录Loss\n",
    "    for batch in next_batch(shuffle(train_set), batch_size=batch_size):\n",
    "        #每一个batch的开始时间\n",
    "        batchstart = time.time()\n",
    "\n",
    "        batch = torch.from_numpy(batch).float().to(device)  # (batch, seq_len)\n",
    "        # 使用短序列的前12个值作为历史，最后一个值作为预测值。\n",
    "        x, label = batch[:, :6,:], batch[:, -1,:]\n",
    "        # print(x.shape)\n",
    "        x = Convolution_Net(x)\n",
    "        # print(\"Con:\",x.shape)\n",
    "        out, hidden = torch_lstm(x.view((x.shape[0], 6, -1)))  # out: (batch_size, seq_len, hidden_size)\n",
    "        # print(\"out:\",out.shape)\n",
    "        out = output_model(out[:, -1, :])\n",
    "        prediction = out  # (batch)\n",
    "        # print(prediction.shape,label.shape)\n",
    "        loss = loss_func(prediction, label)\n",
    "#         print(loss)\n",
    "        optimizer.zero_grad()\n",
    "        loss.backward()\n",
    "        optimizer.step()\n",
    "\n",
    "        trained_batches += 1\n",
    "        train_log.append(loss.detach().cpu().numpy().tolist())\n",
    "\n",
    "        train_batch_time = (time.time() - batchstart)\n",
    "\n",
    "        # 每训练一定数量的batch，就在测试集上测试模型效果。\n",
    "        if trained_batches % 100 == 0:\n",
    "            print('batch %d, train_loss %.6f,Time used %.6fs'%(trained_batches, loss,train_batch_time))\n",
    "            print('batch %d, train_loss %.6f,Time used %.6fs'%(trained_batches, loss,train_batch_time),file=f)\n",
    "            #每一个batch的开始时间\n",
    "            batch_test_start = time.time()\n",
    "            #在每个epoch上测试\n",
    "            all_prediction = []\n",
    "            for batch in next_batch(test_set, batch_size=128):\n",
    "                batch = torch.from_numpy(batch).float().to(device)  # (batch, seq_len)\n",
    "                x, label = batch[:, :6,:], batch[:, -1,:]\n",
    "                x = Convolution_Net(x)\n",
    "                out, hidden = torch_lstm(x.view((x.shape[0], 6, -1)))  # out: (batch_size, seq_len, hidden_size)\n",
    "                out = output_model(out[:, -1, :])\n",
    "                prediction = out  # (batch)\n",
    "                all_prediction.append(prediction.detach().cpu().numpy())\n",
    "\n",
    "            all_prediction = np.concatenate(all_prediction)\n",
    "            all_label = test_set[:, -1]\n",
    "            # 没有进行反归一化操作。\n",
    "            #all_prediction = denormalize(all_prediction)\n",
    "            #all_label = denormalize(all_label)\n",
    "            # 计算测试指标。\n",
    "            rmse_score = math.sqrt(mse(all_label, all_prediction))\n",
    "            mae_score = mae(all_label, all_prediction)\n",
    "            mape_score = mape(all_label, all_prediction)\n",
    "            test_log.append([rmse_score, mae_score, mape_score])\n",
    "            test_batch_time = (time.time() - batch_test_start)\n",
    "            print('***************************test_batch %d, test_rmse_loss %.6f,test_mae_loss %.6f,test_mape_loss %.6f,Time used %.6fs'%(trained_batches, rmse_score,mae_score,mape_score,test_batch_time))\n",
    "            print('***************************test_batch %d, test_rmse_loss %.6f,test_mae_loss %.6f,test_mape_loss %.6f,Time used %.6fs'%(trained_batches, rmse_score,mae_score,mape_score,test_batch_time),file=f)\n",
    "\n",
    "#计算总时间\n",
    "timesum = (time.time() - timestart)\n",
    "print('The total time is %fs'%(timesum))\n",
    "print('The total time is %fs'%(timesum),file=f)\n",
    "f.close()"
   ]
  },
  {
   "cell_type": "markdown",
   "source": [],
   "metadata": {
    "collapsed": false
   }
  },
  {
   "cell_type": "markdown",
   "source": [],
   "metadata": {
    "collapsed": false
   }
  },
  {
   "cell_type": "code",
   "execution_count": 36,
   "metadata": {
    "pycharm": {
     "name": "#%%\n"
    }
   },
   "outputs": [
    {
     "data": {
      "text/plain": "<Figure size 432x288 with 1 Axes>",
      "image/png": "[encoded data removed]"
     },
     "metadata": {
      "needs_background": "light"
     },
     "output_type": "display_data"
    },
    {
     "data": {
      "text/plain": "<Figure size 432x288 with 1 Axes>",
      "image/png": "[encoded data removed]"
     },
     "metadata": {
      "needs_background": "light"
     },
     "output_type": "display_data"
    },
    {
     "data": {
      "text/plain": "<Figure size 432x288 with 1 Axes>",
      "image/png": "[encoded data removed]"
     },
     "metadata": {
      "needs_background": "light"
     },
     "output_type": "display_data"
    },
    {
     "data": {
      "text/plain": "<Figure size 432x288 with 1 Axes>",
      "image/png": "[encoded data removed]"
     },
     "metadata": {
      "needs_background": "light"
     },
     "output_type": "display_data"
    }
   ],
   "source": [
    "#train_loss曲线\n",
    "x = np.linspace(0,len(train_log),len(train_log))\n",
    "plt.plot(x,train_log,label=\"train_loss\",linewidth=1.5)\n",
    "plt.xlabel(\"number of batches\")\n",
    "plt.ylabel(\"loss\")\n",
    "plt.legend()\n",
    "plt.savefig('./figure/RNN_L2.jpg')\n",
    "plt.show()\n",
    "#plt.clf()\n",
    "#test_loss曲线\n",
    "x_test= np.linspace(0,len(test_log),len(test_log))\n",
    "test_log = np.array(test_log)\n",
    "plt.plot(x_test,test_log[:,0],label=\"test_rmse_loss\",linewidth=1.5)\n",
    "plt.xlabel(\"number of batches*100\")\n",
    "plt.ylabel(\"loss\")\n",
    "plt.legend()\n",
    "plt.savefig('./figure/RNN_L2.jpg')\n",
    "plt.show()\n",
    "#plt.clf()\n",
    "\n",
    "#test_loss曲线\n",
    "x_test= np.linspace(0,len(test_log),len(test_log))\n",
    "test_log = np.array(test_log)\n",
    "plt.plot(x_test,test_log[:,1],label=\"test_mae_loss\",linewidth=1.5)\n",
    "plt.xlabel(\"number of batches*100\")\n",
    "plt.ylabel(\"loss\")\n",
    "plt.legend()\n",
    "plt.savefig('./figure/RNN_L2.jpg')\n",
    "plt.show()\n",
    "#plt.clf()\n",
    "\n",
    "#test_loss曲线\n",
    "x_test= np.linspace(0,len(test_log),len(test_log))\n",
    "test_log = np.array(test_log)\n",
    "plt.plot(x_test,test_log[:,2],label=\"test_mape_loss\",linewidth=1.5)\n",
    "plt.xlabel(\"number of batches*100\")\n",
    "plt.ylabel(\"loss\")\n",
    "plt.legend()\n",
    "plt.savefig('./figure/RNN_L2.jpg')\n",
    "plt.show()"
   ]
  },
  {
   "cell_type": "code",
   "execution_count": 37,
   "metadata": {},
   "outputs": [
    {
     "data": {
      "text/plain": "<Figure size 432x288 with 4 Axes>",
      "image/png": "[encoded data removed]"
     },
     "metadata": {
      "needs_background": "light"
     },
     "output_type": "display_data"
    }
   ],
   "source": [
    "#train_loss曲线\n",
    "x = np.linspace(0,len(train_log),len(train_log))\n",
    "plt.subplot(2, 2, 1)\n",
    "plt.plot(x,train_log,label=\"train_loss\",linewidth=1.5)\n",
    "plt.xlabel(\"number of batches\")\n",
    "plt.ylabel(\"loss\")\n",
    "plt.legend()\n",
    "\n",
    "#test_loss曲线\n",
    "x_test= np.linspace(0,len(test_log),len(test_log))\n",
    "test_log = np.array(test_log)\n",
    "plt.subplot(2, 2, 2)\n",
    "plt.plot(x_test,test_log[:,0],label=\"test_rmse_loss\",linewidth=1.5)\n",
    "plt.xlabel(\"number of batches*100\")\n",
    "plt.ylabel(\"loss\")\n",
    "plt.legend()\n",
    "\n",
    "#test_loss曲线\n",
    "x_test= np.linspace(0,len(test_log),len(test_log))\n",
    "test_log = np.array(test_log)\n",
    "plt.subplot(2, 2, 3)\n",
    "plt.plot(x_test,test_log[:,1],label=\"test_mae_loss\",linewidth=1.5)\n",
    "plt.xlabel(\"number of batches*100\")\n",
    "plt.ylabel(\"loss\")\n",
    "plt.legend()\n",
    "\n",
    "#test_loss曲线\n",
    "x_test= np.linspace(0,len(test_log),len(test_log))\n",
    "test_log = np.array(test_log)\n",
    "plt.subplot(2, 2, 4)\n",
    "plt.plot(x_test,test_log[:,2],label=\"test_mape_loss\",linewidth=1.5)\n",
    "plt.xlabel(\"number of batches*100\")\n",
    "plt.ylabel(\"loss\")\n",
    "plt.legend()\n",
    "plt.savefig('./figure/4LSTM_RNN_L2.jpg')\n",
    "plt.show()\n",
    "#plt.clf()"
   ]
  },
  {
   "cell_type": "code",
   "execution_count": null,
   "metadata": {},
   "outputs": [],
   "source": []
  }
 ],
 "metadata": {
  "kernelspec": {
   "display_name": "Python(Pytorch_RL)",
   "language": "python",
   "name": "pytorch_rl"
  },
  "language_info": {
   "codemirror_mode": {
    "name": "ipython",
    "version": 3
   },
   "file_extension": ".py",
   "mimetype": "text/x-python",
   "name": "python",
   "nbconvert_exporter": "python",
   "pygments_lexer": "ipython3",
   "version": "3.7.13"
  }
 },
 "nbformat": 4,
 "nbformat_minor": 1
}