{
 "cells": [
  {
   "cell_type": "code",
   "execution_count": 1,
   "outputs": [],
   "source": [
    "import h5py\n",
    "import torch\n",
    "import numpy as np\n",
    "import random\n",
    "from IPython import display\n",
    "from matplotlib import pyplot as plt\n",
    "import torch.utils.data as Data\n",
    "from PIL import Image\n",
    "import os\n",
    "from torch import nn\n",
    "import torch.optim as optim\n",
    "from torch.nn import init\n",
    "import torch.nn.functional as F\n",
    "import time\n",
    "import pandas as pd\n",
    "from sklearn.utils import shuffle\n",
    "import math\n",
    "from sklearn.metrics import mean_squared_error as mse, mean_absolute_error as mae\n",
    "#plt.switch_backend('agg')"
   ],
   "metadata": {
    "collapsed": false,
    "pycharm": {
     "name": "#%%\n"
    }
   }
  },
  {
   "cell_type": "code",
   "execution_count": 2,
   "outputs": [
    {
     "name": "stdout",
     "output_type": "stream",
     "text": [
      "date: \n",
      "b'2014040101'\n",
      " shape:(4392,) \n",
      " in_flow:\n",
      "[[0. 0. 1. 0. 0. 0. 0. 0.]\n",
      " [0. 1. 1. 4. 1. 1. 0. 0.]\n",
      " [0. 0. 2. 5. 0. 2. 2. 0.]\n",
      " [0. 0. 2. 0. 0. 0. 0. 0.]\n",
      " [0. 1. 3. 1. 4. 2. 0. 0.]\n",
      " [0. 3. 3. 6. 3. 0. 0. 0.]\n",
      " [0. 2. 6. 5. 5. 0. 0. 0.]\n",
      " [0. 6. 3. 8. 1. 0. 0. 0.]\n",
      " [0. 2. 0. 2. 0. 0. 0. 0.]\n",
      " [3. 4. 5. 0. 1. 0. 1. 0.]\n",
      " [0. 2. 2. 1. 0. 0. 2. 1.]\n",
      " [1. 1. 0. 0. 0. 1. 0. 0.]\n",
      " [1. 0. 0. 1. 0. 0. 0. 0.]\n",
      " [0. 0. 0. 0. 0. 3. 1. 0.]\n",
      " [0. 0. 0. 1. 2. 0. 0. 0.]\n",
      " [0. 0. 0. 0. 1. 0. 0. 1.]] \n",
      " out_flow: \n",
      "[[0. 0. 0. 1. 0. 0. 0. 0.]\n",
      " [0. 0. 0. 3. 2. 1. 0. 0.]\n",
      " [0. 0. 0. 3. 0. 1. 0. 0.]\n",
      " [0. 1. 1. 2. 1. 0. 0. 0.]\n",
      " [0. 4. 2. 1. 2. 0. 0. 0.]\n",
      " [0. 1. 5. 5. 3. 0. 0. 0.]\n",
      " [0. 2. 5. 3. 4. 0. 0. 0.]\n",
      " [0. 2. 4. 7. 0. 0. 0. 0.]\n",
      " [1. 1. 2. 9. 1. 0. 0. 0.]\n",
      " [1. 1. 2. 2. 1. 0. 2. 0.]\n",
      " [1. 2. 2. 0. 0. 0. 0. 1.]\n",
      " [0. 1. 0. 0. 0. 0. 0. 0.]\n",
      " [0. 0. 0. 0. 1. 0. 0. 0.]\n",
      " [0. 0. 0. 2. 1. 0. 1. 0.]\n",
      " [0. 0. 0. 0. 1. 2. 0. 0.]\n",
      " [0. 0. 0. 0. 1. 0. 0. 0.]]\n",
      "(4392, 2, 16, 8)\n"
     ]
    }
   ],
   "source": [
    "f_data = h5py.File(\"./BikeNYC/NYC14_M16x8_T60_NewEnd.h5\")\n",
    "BikeNYC_date = f_data['date']\n",
    "BikeNYC_data = f_data['data']\n",
    "print(f'date: \\n{BikeNYC_date[0]}\\n shape:{BikeNYC_date.shape} \\n in_flow:\\n{BikeNYC_data[0][0]} \\n out_flow: \\n{BikeNYC_data[0][1]}')\n",
    "print(BikeNYC_data.shape)"
   ],
   "metadata": {
    "collapsed": false,
    "pycharm": {
     "name": "#%%\n"
    }
   }
  },
  {
   "cell_type": "code",
   "execution_count": 3,
   "outputs": [
    {
     "name": "stdout",
     "output_type": "stream",
     "text": [
      "(4392, 16, 16)\n",
      "[[0. 0. 1. 0. 0. 0. 0. 0. 0. 0. 0. 1. 0. 0. 0. 0.]\n",
      " [0. 1. 1. 4. 1. 1. 0. 0. 0. 0. 0. 3. 2. 1. 0. 0.]\n",
      " [0. 0. 2. 5. 0. 2. 2. 0. 0. 0. 0. 3. 0. 1. 0. 0.]\n",
      " [0. 0. 2. 0. 0. 0. 0. 0. 0. 1. 1. 2. 1. 0. 0. 0.]\n",
      " [0. 1. 3. 1. 4. 2. 0. 0. 0. 4. 2. 1. 2. 0. 0. 0.]\n",
      " [0. 3. 3. 6. 3. 0. 0. 0. 0. 1. 5. 5. 3. 0. 0. 0.]\n",
      " [0. 2. 6. 5. 5. 0. 0. 0. 0. 2. 5. 3. 4. 0. 0. 0.]\n",
      " [0. 6. 3. 8. 1. 0. 0. 0. 0. 2. 4. 7. 0. 0. 0. 0.]\n",
      " [0. 2. 0. 2. 0. 0. 0. 0. 1. 1. 2. 9. 1. 0. 0. 0.]\n",
      " [3. 4. 5. 0. 1. 0. 1. 0. 1. 1. 2. 2. 1. 0. 2. 0.]\n",
      " [0. 2. 2. 1. 0. 0. 2. 1. 1. 2. 2. 0. 0. 0. 0. 1.]\n",
      " [1. 1. 0. 0. 0. 1. 0. 0. 0. 1. 0. 0. 0. 0. 0. 0.]\n",
      " [1. 0. 0. 1. 0. 0. 0. 0. 0. 0. 0. 0. 1. 0. 0. 0.]\n",
      " [0. 0. 0. 0. 0. 3. 1. 0. 0. 0. 0. 2. 1. 0. 1. 0.]\n",
      " [0. 0. 0. 1. 2. 0. 0. 0. 0. 0. 0. 0. 1. 2. 0. 0.]\n",
      " [0. 0. 0. 0. 1. 0. 0. 1. 0. 0. 0. 0. 1. 0. 0. 0.]]\n"
     ]
    }
   ],
   "source": [
    "BikeNYC_data_square = np.concatenate((BikeNYC_data[:,0,:,:],BikeNYC_data[:,1,:,:]),axis=2)\n",
    "print(BikeNYC_data_square.shape)\n",
    "print(BikeNYC_data_square[0,:,:])"
   ],
   "metadata": {
    "collapsed": false,
    "pycharm": {
     "name": "#%%\n"
    }
   }
  },
  {
   "cell_type": "code",
   "execution_count": 4,
   "outputs": [
    {
     "name": "stdout",
     "output_type": "stream",
     "text": [
      "(3074, 16, 16) (439, 16, 16) (879, 16, 16)\n",
      "(3067, 7, 16, 16)\n",
      "(432, 7, 16, 16)\n",
      "(872, 7, 16, 16)\n",
      "(3067, 7, 256)\n",
      "(432, 7, 256)\n",
      "(872, 7, 256)\n"
     ]
    }
   ],
   "source": [
    "#读取数据集，进行划分\n",
    "def sliding_window(seq,window_size):\n",
    "    result = []\n",
    "    for i in range(seq.shape[0]- window_size):\n",
    "        result.append(seq[i: i+window_size])\n",
    "    result = np.array(result)\n",
    "    return result\n",
    "\n",
    "def MLPreshape(set):\n",
    "    set = set.reshape((set.shape[0],set.shape[1],-1))\n",
    "    return set\n",
    "\n",
    "def MLPreshape_inverse(set):\n",
    "    set = set.reshape((set.shape[0],set.shape[1],16,16))\n",
    "    return set\n",
    "\n",
    "data_num = BikeNYC_date.shape[0]\n",
    "# flow_in_num = 0\n",
    "train_seq = BikeNYC_data_square[:int(data_num*0.7),:,:]\n",
    "validation_seq = BikeNYC_data_square[int(data_num*0.7):int(data_num*0.8),:,:]\n",
    "test_seq = BikeNYC_data_square[int(data_num*0.8):,:,:]\n",
    "print(train_seq.shape,validation_seq.shape,test_seq.shape)\n",
    "\n",
    "window_size = 7\n",
    "train_set = sliding_window(train_seq, window_size)\n",
    "validation_set = sliding_window(validation_seq, window_size)\n",
    "test_set = sliding_window(test_seq, window_size)\n",
    "print(train_set.shape)\n",
    "print(validation_set.shape)\n",
    "print(test_set.shape)\n",
    "\n",
    "train_set = MLPreshape(train_set)\n",
    "validation_set = MLPreshape(validation_set)\n",
    "test_set = MLPreshape(test_set)\n",
    "\n",
    "print(train_set.shape)\n",
    "print(validation_set.shape)\n",
    "print(test_set.shape)"
   ],
   "metadata": {
    "collapsed": false,
    "pycharm": {
     "name": "#%%\n"
    }
   }
  },
  {
   "cell_type": "code",
   "execution_count": 39,
   "outputs": [],
   "source": [
    "dropout_parameter = 0.01\n",
    "class OutputNet(torch.nn.Module):\n",
    "    def __init__(self, state_dim, hidden_dim1, hidden_dim2, action_dim):\n",
    "        super(OutputNet, self).__init__()\n",
    "        self.fc1 = torch.nn.Linear(state_dim, hidden_dim1)\n",
    "        self.fc2 = torch.nn.Linear(hidden_dim1, hidden_dim2)\n",
    "        self.fc3 = torch.nn.Linear(hidden_dim2, action_dim)\n",
    "        self.fc4 = torch.nn.Dropout(dropout_parameter)\n",
    "        self.fc5 = torch.nn.Dropout(dropout_parameter)\n",
    "        self.fc6 = torch.nn.Dropout(dropout_parameter)\n",
    "\n",
    "    def forward(self, x):\n",
    "        x = F.leaky_relu_(self.fc1(x))\n",
    "        # x = self.fc4(x)\n",
    "        x = F.leaky_relu_(self.fc2(x))\n",
    "        # x = self.fc5(x)\n",
    "        x = F.leaky_relu_(self.fc3(x))\n",
    "        return self.fc6(x)\n"
   ],
   "metadata": {
    "collapsed": false,
    "pycharm": {
     "name": "#%%\n"
    }
   }
  },
  {
   "cell_type": "code",
   "execution_count": 5,
   "outputs": [],
   "source": [],
   "metadata": {
    "collapsed": false,
    "pycharm": {
     "name": "#%%\n"
    }
   }
  },
  {
   "cell_type": "code",
   "execution_count": 6,
   "metadata": {
    "pycharm": {
     "name": "#%%\n"
    }
   },
   "outputs": [],
   "source": [
    "def mape(y_true, y_pred):\n",
    "    y_true, y_pred = np.array(y_true), np.array(y_pred)\n",
    "    non_zero_index = (y_true > 0)\n",
    "    y_true = y_true[non_zero_index]\n",
    "    y_pred = y_pred[non_zero_index]\n",
    "\n",
    "    mape = np.abs((y_true - y_pred) / y_true)\n",
    "    mape[np.isinf(mape)] = 0\n",
    "    return np.mean(mape) * 100"
   ]
  },
  {
   "cell_type": "code",
   "execution_count": 7,
   "outputs": [],
   "source": [
    "def next_batch(data, batch_size):\n",
    "    data_length = data.shape[0]\n",
    "    num_batches = math.ceil(data_length / batch_size)\n",
    "    for batch_index in range(num_batches):\n",
    "        start_index = batch_index * batch_size\n",
    "        end_index = min((batch_index + 1) * batch_size, data_length)\n",
    "        yield data[start_index:end_index]"
   ],
   "metadata": {
    "collapsed": false,
    "pycharm": {
     "name": "#%%\n"
    }
   }
  },
  {
   "cell_type": "code",
   "execution_count": 33,
   "outputs": [],
   "source": [
    "class ConvolutionNet(torch.nn.Module):\n",
    "    def __init__(self):\n",
    "        super(ConvolutionNet, self).__init__()\n",
    "        self.block1 = nn.Sequential(\n",
    "                                    nn.Conv2d(6, 64, kernel_size=4, stride=2),\n",
    "                                    nn.LeakyReLU(0.02),\n",
    "                                    # nn.Dropout(dropout_parameter),\n",
    "                                    nn.BatchNorm2d(64),\n",
    "\n",
    "                                    nn.Conv2d(64,128,kernel_size=3, stride=2),\n",
    "                                    nn.LeakyReLU(0.02),\n",
    "                                    # nn.Dropout(dropout_parameter),\n",
    "                                    nn.BatchNorm2d(128),\n",
    "\n",
    "                                    nn.Conv2d(128,120,kernel_size=3, stride=1),\n",
    "                                    nn.LeakyReLU(0.02),\n",
    "                                    #\n",
    "                                    nn.BatchNorm2d(120),\n",
    "                                    # nn.Dropout(dropout_parameter)\n",
    "        )\n",
    "\n",
    "\n",
    "    def forward(self, x):\n",
    "        x = self.block1(x.view((x.shape[0],6,16,16)))\n",
    "        # print(x.shape)\n",
    "        x = x.squeeze()\n",
    "        return x"
   ],
   "metadata": {
    "collapsed": false,
    "pycharm": {
     "name": "#%%\n"
    }
   }
  },
  {
   "cell_type": "code",
   "execution_count": 8,
   "outputs": [],
   "source": [],
   "metadata": {
    "collapsed": false,
    "pycharm": {
     "name": "#%%\n"
    }
   }
  },
  {
   "cell_type": "code",
   "execution_count": 40,
   "outputs": [],
   "source": [
    "#初始化模型\n",
    "device = 'cpu'\n",
    "Convolution_Net = ConvolutionNet()\n",
    "torch_lstm = nn.LSTM(input_size=20, hidden_size=32, num_layers=1, batch_first=True)\n",
    "output_model = OutputNet(state_dim=32, hidden_dim1=64, hidden_dim2=128, action_dim=16*16)"
   ],
   "metadata": {
    "collapsed": false,
    "pycharm": {
     "name": "#%%\n"
    }
   }
  },
  {
   "cell_type": "code",
   "execution_count": 41,
   "outputs": [],
   "source": [
    "loss_func = nn.MSELoss()\n",
    "optimizer = torch.optim.Adam(list(torch_lstm.parameters()) + list(output_model.parameters()) + list(Convolution_Net.parameters()), lr=0.0001)"
   ],
   "metadata": {
    "collapsed": false,
    "pycharm": {
     "name": "#%%\n"
    }
   }
  },
  {
   "cell_type": "code",
   "execution_count": 43,
   "outputs": [],
   "source": [
    "#保存打印文件\n",
    "f = open(\"./date/Dropout.txt\", 'a+')"
   ],
   "metadata": {
    "collapsed": false,
    "pycharm": {
     "name": "#%%\n"
    }
   }
  },
  {
   "cell_type": "code",
   "execution_count": 42,
   "outputs": [],
   "source": [
    "# 这两句只在第二次运行这个框架时运行，是为了重载文件流防止内存溢出。\n",
    "f.close()\n",
    "os.remove(\"./date/Dropout.txt\")"
   ],
   "metadata": {
    "collapsed": false,
    "pycharm": {
     "name": "#%%\n"
    }
   }
  },
  {
   "cell_type": "code",
   "execution_count": 44,
   "metadata": {
    "pycharm": {
     "name": "#%%\n"
    }
   },
   "outputs": [
    {
     "name": "stdout",
     "output_type": "stream",
     "text": [
      "batch 100, train_loss 407.199554,Time used 0.031000s\n",
      "***************************test_batch 100, test_rmse_loss 22.217999,test_mae_loss 10.139759,test_mape_loss 95.292348,Time used 0.090002s\n",
      "batch 200, train_loss 361.892578,Time used 0.028001s\n",
      "***************************test_batch 200, test_rmse_loss 20.018220,test_mae_loss 8.523840,test_mape_loss 77.659149,Time used 0.109997s\n",
      "batch 300, train_loss 128.166580,Time used 0.025006s\n",
      "***************************test_batch 300, test_rmse_loss 14.474458,test_mae_loss 5.631613,test_mape_loss 74.846934,Time used 0.083992s\n",
      "batch 400, train_loss 80.575790,Time used 0.028003s\n",
      "***************************test_batch 400, test_rmse_loss 10.999760,test_mae_loss 4.337501,test_mape_loss 61.376402,Time used 0.086998s\n",
      "batch 500, train_loss 58.115009,Time used 0.036000s\n",
      "***************************test_batch 500, test_rmse_loss 9.581498,test_mae_loss 3.895215,test_mape_loss 59.710027,Time used 0.114999s\n",
      "batch 600, train_loss 63.531376,Time used 0.034000s\n",
      "***************************test_batch 600, test_rmse_loss 8.824245,test_mae_loss 3.656070,test_mape_loss 58.339338,Time used 0.092998s\n",
      "batch 700, train_loss 61.063465,Time used 0.028000s\n",
      "***************************test_batch 700, test_rmse_loss 8.461896,test_mae_loss 3.562989,test_mape_loss 57.750516,Time used 0.096999s\n",
      "batch 800, train_loss 55.090519,Time used 0.027002s\n",
      "***************************test_batch 800, test_rmse_loss 8.318689,test_mae_loss 3.534694,test_mape_loss 58.930373,Time used 0.093999s\n",
      "batch 900, train_loss 45.188858,Time used 0.026002s\n",
      "***************************test_batch 900, test_rmse_loss 8.264170,test_mae_loss 3.508930,test_mape_loss 56.268374,Time used 0.091993s\n",
      "batch 1000, train_loss 58.483444,Time used 0.030003s\n",
      "***************************test_batch 1000, test_rmse_loss 8.307988,test_mae_loss 3.529553,test_mape_loss 54.908138,Time used 0.086997s\n",
      "batch 1100, train_loss 49.677635,Time used 0.034000s\n",
      "***************************test_batch 1100, test_rmse_loss 8.147671,test_mae_loss 3.491752,test_mape_loss 55.798623,Time used 0.089999s\n",
      "batch 1200, train_loss 47.792564,Time used 0.025000s\n",
      "***************************test_batch 1200, test_rmse_loss 8.081804,test_mae_loss 3.468259,test_mape_loss 56.228975,Time used 0.091001s\n",
      "batch 1300, train_loss 51.962307,Time used 0.033998s\n",
      "***************************test_batch 1300, test_rmse_loss 8.070354,test_mae_loss 3.448230,test_mape_loss 56.698157,Time used 0.091002s\n",
      "batch 1400, train_loss 53.158569,Time used 0.031000s\n",
      "***************************test_batch 1400, test_rmse_loss 8.138399,test_mae_loss 3.478768,test_mape_loss 54.773850,Time used 0.084999s\n",
      "batch 1500, train_loss 50.083153,Time used 0.031003s\n",
      "***************************test_batch 1500, test_rmse_loss 8.037142,test_mae_loss 3.460065,test_mape_loss 56.622966,Time used 0.086998s\n",
      "batch 1600, train_loss 42.774071,Time used 0.032000s\n",
      "***************************test_batch 1600, test_rmse_loss 8.099970,test_mae_loss 3.466649,test_mape_loss 56.063266,Time used 0.092001s\n",
      "batch 1700, train_loss 52.921177,Time used 0.032000s\n",
      "***************************test_batch 1700, test_rmse_loss 8.087546,test_mae_loss 3.468521,test_mape_loss 55.181917,Time used 0.099002s\n",
      "batch 1800, train_loss 53.408623,Time used 0.034000s\n",
      "***************************test_batch 1800, test_rmse_loss 8.097628,test_mae_loss 3.470194,test_mape_loss 55.315161,Time used 0.110000s\n",
      "batch 1900, train_loss 59.387093,Time used 0.029000s\n",
      "***************************test_batch 1900, test_rmse_loss 8.104043,test_mae_loss 3.468787,test_mape_loss 55.436662,Time used 0.092999s\n",
      "batch 2000, train_loss 54.142143,Time used 0.028001s\n",
      "***************************test_batch 2000, test_rmse_loss 8.073904,test_mae_loss 3.460392,test_mape_loss 55.834331,Time used 0.084997s\n",
      "batch 2100, train_loss 51.870781,Time used 0.028002s\n",
      "***************************test_batch 2100, test_rmse_loss 8.042085,test_mae_loss 3.454530,test_mape_loss 55.793989,Time used 0.089997s\n",
      "batch 2200, train_loss 53.783508,Time used 0.027997s\n",
      "***************************test_batch 2200, test_rmse_loss 8.103800,test_mae_loss 3.464047,test_mape_loss 56.588487,Time used 0.097001s\n",
      "batch 2300, train_loss 48.268448,Time used 0.034001s\n",
      "***************************test_batch 2300, test_rmse_loss 7.997534,test_mae_loss 3.445895,test_mape_loss 56.187857,Time used 0.104997s\n",
      "batch 2400, train_loss 61.646477,Time used 0.027999s\n",
      "***************************test_batch 2400, test_rmse_loss 8.102055,test_mae_loss 3.460622,test_mape_loss 55.267672,Time used 0.092000s\n",
      "batch 2500, train_loss 63.270515,Time used 0.027001s\n",
      "***************************test_batch 2500, test_rmse_loss 8.073618,test_mae_loss 3.456116,test_mape_loss 54.461478,Time used 0.095998s\n",
      "batch 2600, train_loss 48.458675,Time used 0.025997s\n",
      "***************************test_batch 2600, test_rmse_loss 8.123101,test_mae_loss 3.481981,test_mape_loss 54.503452,Time used 0.096001s\n",
      "batch 2700, train_loss 51.788330,Time used 0.030998s\n",
      "***************************test_batch 2700, test_rmse_loss 7.964709,test_mae_loss 3.427165,test_mape_loss 55.654005,Time used 0.085002s\n",
      "batch 2800, train_loss 57.595375,Time used 0.030000s\n",
      "***************************test_batch 2800, test_rmse_loss 8.015294,test_mae_loss 3.454815,test_mape_loss 56.850249,Time used 0.085000s\n",
      "batch 2900, train_loss 62.233124,Time used 0.028999s\n",
      "***************************test_batch 2900, test_rmse_loss 7.953453,test_mae_loss 3.428403,test_mape_loss 57.300158,Time used 0.093001s\n",
      "batch 3000, train_loss 48.278690,Time used 0.029999s\n",
      "***************************test_batch 3000, test_rmse_loss 8.098275,test_mae_loss 3.454888,test_mape_loss 55.124459,Time used 0.092001s\n",
      "batch 3100, train_loss 49.314030,Time used 0.030002s\n",
      "***************************test_batch 3100, test_rmse_loss 8.079005,test_mae_loss 3.454233,test_mape_loss 54.425635,Time used 0.093000s\n",
      "batch 3200, train_loss 57.359131,Time used 0.026000s\n",
      "***************************test_batch 3200, test_rmse_loss 8.017754,test_mae_loss 3.437610,test_mape_loss 55.120959,Time used 0.092001s\n",
      "batch 3300, train_loss 50.083664,Time used 0.036000s\n",
      "***************************test_batch 3300, test_rmse_loss 8.100166,test_mae_loss 3.455076,test_mape_loss 55.168961,Time used 0.106001s\n",
      "batch 3400, train_loss 51.085064,Time used 0.031000s\n",
      "***************************test_batch 3400, test_rmse_loss 8.049221,test_mae_loss 3.439150,test_mape_loss 55.583268,Time used 0.100000s\n",
      "batch 3500, train_loss 44.451298,Time used 0.030001s\n",
      "***************************test_batch 3500, test_rmse_loss 8.007254,test_mae_loss 3.423168,test_mape_loss 56.219745,Time used 0.091002s\n",
      "batch 3600, train_loss 57.809818,Time used 0.026004s\n",
      "***************************test_batch 3600, test_rmse_loss 8.053027,test_mae_loss 3.439735,test_mape_loss 54.670786,Time used 0.096997s\n",
      "batch 3700, train_loss 45.208645,Time used 0.028001s\n",
      "***************************test_batch 3700, test_rmse_loss 8.100943,test_mae_loss 3.448421,test_mape_loss 54.605143,Time used 0.088998s\n",
      "batch 3800, train_loss 42.461422,Time used 0.029998s\n",
      "***************************test_batch 3800, test_rmse_loss 7.993372,test_mae_loss 3.434909,test_mape_loss 55.998136,Time used 0.096014s\n",
      "batch 3900, train_loss 40.754818,Time used 0.029001s\n",
      "***************************test_batch 3900, test_rmse_loss 8.013843,test_mae_loss 3.422254,test_mape_loss 55.135604,Time used 0.088998s\n",
      "batch 4000, train_loss 45.248352,Time used 0.024992s\n",
      "***************************test_batch 4000, test_rmse_loss 8.058621,test_mae_loss 3.430289,test_mape_loss 53.973274,Time used 0.091002s\n",
      "batch 4100, train_loss 49.791008,Time used 0.029992s\n",
      "***************************test_batch 4100, test_rmse_loss 7.860619,test_mae_loss 3.392379,test_mape_loss 57.477051,Time used 0.091999s\n",
      "batch 4200, train_loss 58.035778,Time used 0.031003s\n",
      "***************************test_batch 4200, test_rmse_loss 7.991197,test_mae_loss 3.424664,test_mape_loss 54.660107,Time used 0.091995s\n",
      "batch 4300, train_loss 44.173306,Time used 0.029000s\n",
      "***************************test_batch 4300, test_rmse_loss 7.949547,test_mae_loss 3.394995,test_mape_loss 54.202964,Time used 0.100000s\n",
      "batch 4400, train_loss 49.262684,Time used 0.031998s\n",
      "***************************test_batch 4400, test_rmse_loss 7.932547,test_mae_loss 3.391982,test_mape_loss 54.549229,Time used 0.082998s\n",
      "batch 4500, train_loss 53.389175,Time used 0.030000s\n",
      "***************************test_batch 4500, test_rmse_loss 7.764358,test_mae_loss 3.345137,test_mape_loss 54.835710,Time used 0.092000s\n",
      "batch 4600, train_loss 45.373512,Time used 0.028999s\n",
      "***************************test_batch 4600, test_rmse_loss 7.835964,test_mae_loss 3.356625,test_mape_loss 52.891435,Time used 0.085997s\n",
      "batch 4700, train_loss 48.198368,Time used 0.030999s\n",
      "***************************test_batch 4700, test_rmse_loss 7.706154,test_mae_loss 3.313277,test_mape_loss 54.124142,Time used 0.098001s\n",
      "batch 4800, train_loss 44.251598,Time used 0.032005s\n",
      "***************************test_batch 4800, test_rmse_loss 7.605972,test_mae_loss 3.264497,test_mape_loss 53.184377,Time used 0.096995s\n",
      "batch 4900, train_loss 46.963848,Time used 0.028999s\n",
      "***************************test_batch 4900, test_rmse_loss 7.610917,test_mae_loss 3.261319,test_mape_loss 52.788418,Time used 0.090000s\n",
      "batch 5000, train_loss 41.260948,Time used 0.032001s\n",
      "***************************test_batch 5000, test_rmse_loss 7.438131,test_mae_loss 3.186819,test_mape_loss 51.867236,Time used 0.089998s\n",
      "batch 5100, train_loss 41.682232,Time used 0.028009s\n",
      "***************************test_batch 5100, test_rmse_loss 7.173452,test_mae_loss 3.115034,test_mape_loss 53.132781,Time used 0.101990s\n",
      "batch 5200, train_loss 41.143475,Time used 0.032002s\n",
      "***************************test_batch 5200, test_rmse_loss 7.098554,test_mae_loss 3.098596,test_mape_loss 53.684992,Time used 0.097997s\n",
      "batch 5300, train_loss 31.231482,Time used 0.030001s\n",
      "***************************test_batch 5300, test_rmse_loss 6.899499,test_mae_loss 3.009107,test_mape_loss 50.273533,Time used 0.090996s\n",
      "batch 5400, train_loss 35.721848,Time used 0.031003s\n",
      "***************************test_batch 5400, test_rmse_loss 6.732635,test_mae_loss 2.958392,test_mape_loss 49.958584,Time used 0.097995s\n",
      "batch 5500, train_loss 33.084686,Time used 0.031001s\n",
      "***************************test_batch 5500, test_rmse_loss 6.752448,test_mae_loss 2.958019,test_mape_loss 50.082163,Time used 0.097001s\n",
      "batch 5600, train_loss 31.101265,Time used 0.035001s\n",
      "***************************test_batch 5600, test_rmse_loss 6.630814,test_mae_loss 2.918916,test_mape_loss 48.958286,Time used 0.129001s\n",
      "batch 5700, train_loss 30.522627,Time used 0.038001s\n",
      "***************************test_batch 5700, test_rmse_loss 6.560862,test_mae_loss 2.900810,test_mape_loss 48.566855,Time used 0.116000s\n",
      "batch 5800, train_loss 32.813538,Time used 0.034000s\n",
      "***************************test_batch 5800, test_rmse_loss 6.514971,test_mae_loss 2.874631,test_mape_loss 48.807227,Time used 0.107000s\n",
      "batch 5900, train_loss 33.841934,Time used 0.030000s\n",
      "***************************test_batch 5900, test_rmse_loss 6.537003,test_mae_loss 2.889788,test_mape_loss 48.468817,Time used 0.085000s\n",
      "batch 6000, train_loss 27.212194,Time used 0.027999s\n",
      "***************************test_batch 6000, test_rmse_loss 6.597314,test_mae_loss 2.914839,test_mape_loss 48.419358,Time used 0.092000s\n",
      "batch 6100, train_loss 25.379166,Time used 0.028999s\n",
      "***************************test_batch 6100, test_rmse_loss 6.477199,test_mae_loss 2.864998,test_mape_loss 49.805296,Time used 0.086001s\n",
      "batch 6200, train_loss 29.662508,Time used 0.029002s\n",
      "***************************test_batch 6200, test_rmse_loss 6.524445,test_mae_loss 2.892696,test_mape_loss 48.980719,Time used 0.096001s\n",
      "batch 6300, train_loss 28.716543,Time used 0.050999s\n",
      "***************************test_batch 6300, test_rmse_loss 6.381944,test_mae_loss 2.837355,test_mape_loss 48.798684,Time used 0.109999s\n",
      "batch 6400, train_loss 30.819792,Time used 0.026999s\n",
      "***************************test_batch 6400, test_rmse_loss 6.297330,test_mae_loss 2.814445,test_mape_loss 48.721563,Time used 0.076998s\n",
      "batch 6500, train_loss 24.862696,Time used 0.027005s\n",
      "***************************test_batch 6500, test_rmse_loss 6.324631,test_mae_loss 2.817142,test_mape_loss 49.084110,Time used 0.082995s\n",
      "batch 6600, train_loss 26.723166,Time used 0.028000s\n",
      "***************************test_batch 6600, test_rmse_loss 6.327839,test_mae_loss 2.820144,test_mape_loss 48.130082,Time used 0.100001s\n",
      "batch 6700, train_loss 28.734859,Time used 0.029001s\n",
      "***************************test_batch 6700, test_rmse_loss 6.295607,test_mae_loss 2.813662,test_mape_loss 48.974265,Time used 0.093999s\n",
      "batch 6800, train_loss 25.051767,Time used 0.026998s\n",
      "***************************test_batch 6800, test_rmse_loss 6.394508,test_mae_loss 2.836905,test_mape_loss 47.878525,Time used 0.078000s\n",
      "batch 6900, train_loss 28.032846,Time used 0.023999s\n",
      "***************************test_batch 6900, test_rmse_loss 6.241316,test_mae_loss 2.792974,test_mape_loss 49.531410,Time used 0.090999s\n",
      "batch 7000, train_loss 27.221046,Time used 0.027002s\n",
      "***************************test_batch 7000, test_rmse_loss 6.352179,test_mae_loss 2.827062,test_mape_loss 48.100161,Time used 0.082999s\n",
      "batch 7100, train_loss 21.001772,Time used 0.030003s\n",
      "***************************test_batch 7100, test_rmse_loss 6.499920,test_mae_loss 2.875584,test_mape_loss 48.321800,Time used 0.084998s\n",
      "batch 7200, train_loss 26.727184,Time used 0.028000s\n",
      "***************************test_batch 7200, test_rmse_loss 6.370576,test_mae_loss 2.825198,test_mape_loss 48.234068,Time used 0.086999s\n",
      "batch 7300, train_loss 25.028389,Time used 0.028001s\n",
      "***************************test_batch 7300, test_rmse_loss 6.285095,test_mae_loss 2.809650,test_mape_loss 47.747242,Time used 0.088999s\n",
      "batch 7400, train_loss 28.966940,Time used 0.026999s\n",
      "***************************test_batch 7400, test_rmse_loss 6.337360,test_mae_loss 2.820216,test_mape_loss 48.482015,Time used 0.089002s\n",
      "batch 7500, train_loss 24.996393,Time used 0.025999s\n",
      "***************************test_batch 7500, test_rmse_loss 6.294940,test_mae_loss 2.802637,test_mape_loss 48.750946,Time used 0.086001s\n",
      "batch 7600, train_loss 25.071527,Time used 0.028001s\n",
      "***************************test_batch 7600, test_rmse_loss 6.190875,test_mae_loss 2.765592,test_mape_loss 48.142758,Time used 0.087999s\n",
      "batch 7700, train_loss 25.166952,Time used 0.026001s\n",
      "***************************test_batch 7700, test_rmse_loss 6.157551,test_mae_loss 2.763850,test_mape_loss 48.048229,Time used 0.082999s\n",
      "batch 7800, train_loss 26.056299,Time used 0.027003s\n",
      "***************************test_batch 7800, test_rmse_loss 6.220706,test_mae_loss 2.779899,test_mape_loss 48.342239,Time used 0.085996s\n",
      "batch 7900, train_loss 23.272837,Time used 0.029000s\n",
      "***************************test_batch 7900, test_rmse_loss 6.244422,test_mae_loss 2.775634,test_mape_loss 48.081500,Time used 0.087000s\n",
      "batch 8000, train_loss 28.551617,Time used 0.026000s\n",
      "***************************test_batch 8000, test_rmse_loss 6.239547,test_mae_loss 2.789113,test_mape_loss 48.112606,Time used 0.083998s\n",
      "batch 8100, train_loss 29.132603,Time used 0.027996s\n",
      "***************************test_batch 8100, test_rmse_loss 6.281458,test_mae_loss 2.797602,test_mape_loss 48.156591,Time used 0.094003s\n",
      "batch 8200, train_loss 30.047483,Time used 0.026000s\n",
      "***************************test_batch 8200, test_rmse_loss 6.107067,test_mae_loss 2.746363,test_mape_loss 48.459991,Time used 0.094999s\n",
      "batch 8300, train_loss 26.083786,Time used 0.027994s\n",
      "***************************test_batch 8300, test_rmse_loss 6.308229,test_mae_loss 2.804161,test_mape_loss 47.957338,Time used 0.104998s\n",
      "batch 8400, train_loss 28.904203,Time used 0.025002s\n",
      "***************************test_batch 8400, test_rmse_loss 6.141572,test_mae_loss 2.755513,test_mape_loss 47.858004,Time used 0.094998s\n",
      "batch 8500, train_loss 24.100752,Time used 0.031002s\n",
      "***************************test_batch 8500, test_rmse_loss 6.241678,test_mae_loss 2.770637,test_mape_loss 48.467741,Time used 0.127999s\n",
      "batch 8600, train_loss 28.811647,Time used 0.030999s\n",
      "***************************test_batch 8600, test_rmse_loss 6.120727,test_mae_loss 2.729069,test_mape_loss 48.734624,Time used 0.081001s\n",
      "batch 8700, train_loss 25.831053,Time used 0.028001s\n",
      "***************************test_batch 8700, test_rmse_loss 6.075003,test_mae_loss 2.736726,test_mape_loss 48.487791,Time used 0.087998s\n",
      "batch 8800, train_loss 22.881933,Time used 0.032997s\n",
      "***************************test_batch 8800, test_rmse_loss 6.222418,test_mae_loss 2.768523,test_mape_loss 47.584765,Time used 0.094999s\n",
      "batch 8900, train_loss 28.288340,Time used 0.025001s\n",
      "***************************test_batch 8900, test_rmse_loss 6.095412,test_mae_loss 2.727757,test_mape_loss 48.310538,Time used 0.090001s\n",
      "batch 9000, train_loss 23.345741,Time used 0.028998s\n",
      "***************************test_batch 9000, test_rmse_loss 6.195135,test_mae_loss 2.771698,test_mape_loss 47.410521,Time used 0.094998s\n",
      "batch 9100, train_loss 23.830452,Time used 0.027003s\n",
      "***************************test_batch 9100, test_rmse_loss 5.963518,test_mae_loss 2.698208,test_mape_loss 48.614983,Time used 0.106001s\n",
      "batch 9200, train_loss 27.324444,Time used 0.028999s\n",
      "***************************test_batch 9200, test_rmse_loss 6.071962,test_mae_loss 2.719912,test_mape_loss 47.969583,Time used 0.086000s\n",
      "batch 9300, train_loss 22.961971,Time used 0.026010s\n",
      "***************************test_batch 9300, test_rmse_loss 6.058034,test_mae_loss 2.710209,test_mape_loss 47.817644,Time used 0.080993s\n",
      "batch 9400, train_loss 26.095360,Time used 0.027001s\n",
      "***************************test_batch 9400, test_rmse_loss 6.147415,test_mae_loss 2.732529,test_mape_loss 47.277252,Time used 0.078000s\n",
      "batch 9500, train_loss 28.566319,Time used 0.027997s\n",
      "***************************test_batch 9500, test_rmse_loss 5.988396,test_mae_loss 2.701167,test_mape_loss 48.557959,Time used 0.097001s\n",
      "batch 9600, train_loss 23.737635,Time used 0.025000s\n",
      "***************************test_batch 9600, test_rmse_loss 6.094212,test_mae_loss 2.713544,test_mape_loss 48.107337,Time used 0.092996s\n",
      "batch 9700, train_loss 24.881344,Time used 0.026001s\n",
      "***************************test_batch 9700, test_rmse_loss 6.120213,test_mae_loss 2.731100,test_mape_loss 47.211093,Time used 0.091999s\n",
      "batch 9800, train_loss 25.072090,Time used 0.026997s\n",
      "***************************test_batch 9800, test_rmse_loss 6.229124,test_mae_loss 2.759142,test_mape_loss 46.966284,Time used 0.089002s\n",
      "batch 9900, train_loss 21.805616,Time used 0.030002s\n",
      "***************************test_batch 9900, test_rmse_loss 6.098762,test_mae_loss 2.713995,test_mape_loss 47.932403,Time used 0.083998s\n",
      "batch 10000, train_loss 26.858185,Time used 0.024998s\n",
      "***************************test_batch 10000, test_rmse_loss 6.105591,test_mae_loss 2.712743,test_mape_loss 47.358705,Time used 0.085998s\n",
      "batch 10100, train_loss 21.720087,Time used 0.028996s\n",
      "***************************test_batch 10100, test_rmse_loss 6.037946,test_mae_loss 2.687135,test_mape_loss 47.490709,Time used 0.083001s\n",
      "batch 10200, train_loss 22.478743,Time used 0.024001s\n",
      "***************************test_batch 10200, test_rmse_loss 6.136082,test_mae_loss 2.718364,test_mape_loss 47.130403,Time used 0.080998s\n",
      "batch 10300, train_loss 23.650471,Time used 0.026001s\n",
      "***************************test_batch 10300, test_rmse_loss 6.086336,test_mae_loss 2.700044,test_mape_loss 47.646110,Time used 0.079998s\n",
      "batch 10400, train_loss 23.767288,Time used 0.030998s\n",
      "***************************test_batch 10400, test_rmse_loss 6.011527,test_mae_loss 2.683566,test_mape_loss 47.734200,Time used 0.098002s\n",
      "batch 10500, train_loss 26.412701,Time used 0.029006s\n",
      "***************************test_batch 10500, test_rmse_loss 5.889864,test_mae_loss 2.646517,test_mape_loss 48.413296,Time used 0.099996s\n",
      "batch 10600, train_loss 28.419924,Time used 0.033000s\n",
      "***************************test_batch 10600, test_rmse_loss 6.065035,test_mae_loss 2.696768,test_mape_loss 47.071619,Time used 0.095999s\n",
      "batch 10700, train_loss 23.893602,Time used 0.029002s\n",
      "***************************test_batch 10700, test_rmse_loss 6.001566,test_mae_loss 2.678488,test_mape_loss 46.730697,Time used 0.095999s\n",
      "batch 10800, train_loss 24.551537,Time used 0.026000s\n",
      "***************************test_batch 10800, test_rmse_loss 5.991562,test_mae_loss 2.677197,test_mape_loss 47.133701,Time used 0.086001s\n",
      "batch 10900, train_loss 23.613756,Time used 0.027004s\n",
      "***************************test_batch 10900, test_rmse_loss 5.977162,test_mae_loss 2.655594,test_mape_loss 46.842993,Time used 0.089997s\n",
      "batch 11000, train_loss 22.980587,Time used 0.025002s\n",
      "***************************test_batch 11000, test_rmse_loss 6.005596,test_mae_loss 2.672368,test_mape_loss 47.050042,Time used 0.086997s\n",
      "batch 11100, train_loss 22.520710,Time used 0.030998s\n",
      "***************************test_batch 11100, test_rmse_loss 5.949424,test_mae_loss 2.651509,test_mape_loss 46.861394,Time used 0.094008s\n",
      "batch 11200, train_loss 24.401115,Time used 0.026999s\n",
      "***************************test_batch 11200, test_rmse_loss 6.076312,test_mae_loss 2.685769,test_mape_loss 46.741673,Time used 0.089002s\n",
      "batch 11300, train_loss 24.982899,Time used 0.030003s\n",
      "***************************test_batch 11300, test_rmse_loss 5.907929,test_mae_loss 2.630132,test_mape_loss 46.984291,Time used 0.087999s\n",
      "batch 11400, train_loss 23.604719,Time used 0.028003s\n",
      "***************************test_batch 11400, test_rmse_loss 5.932606,test_mae_loss 2.646129,test_mape_loss 46.431600,Time used 0.092995s\n",
      "batch 11500, train_loss 22.572571,Time used 0.029003s\n",
      "***************************test_batch 11500, test_rmse_loss 5.894499,test_mae_loss 2.634927,test_mape_loss 46.761936,Time used 0.094996s\n",
      "batch 11600, train_loss 20.749527,Time used 0.043588s\n",
      "***************************test_batch 11600, test_rmse_loss 5.856359,test_mae_loss 2.612472,test_mape_loss 46.928920,Time used 0.113518s\n",
      "batch 11700, train_loss 22.358656,Time used 0.026001s\n",
      "***************************test_batch 11700, test_rmse_loss 5.951343,test_mae_loss 2.638942,test_mape_loss 46.728435,Time used 0.086000s\n",
      "batch 11800, train_loss 22.159298,Time used 0.029999s\n",
      "***************************test_batch 11800, test_rmse_loss 5.920253,test_mae_loss 2.636527,test_mape_loss 46.058351,Time used 0.097004s\n",
      "batch 11900, train_loss 21.753143,Time used 0.024999s\n",
      "***************************test_batch 11900, test_rmse_loss 5.891880,test_mae_loss 2.620145,test_mape_loss 46.045935,Time used 0.085001s\n",
      "batch 12000, train_loss 24.973372,Time used 0.031997s\n",
      "***************************test_batch 12000, test_rmse_loss 5.970327,test_mae_loss 2.640611,test_mape_loss 45.733709,Time used 0.086002s\n",
      "The total time is 372.863061s\n"
     ]
    }
   ],
   "source": [
    "train_log = []\n",
    "test_log = []\n",
    "#开始时间\n",
    "timestart = time.time()\n",
    "trained_batches = 0 #记录多少个batch\n",
    "batch_size = 128\n",
    "for epoch in range(500):\n",
    "\n",
    "    total_1oss = 0 #记录Loss\n",
    "    for batch in next_batch(shuffle(train_set), batch_size=batch_size):\n",
    "        #每一个batch的开始时间\n",
    "        batchstart = time.time()\n",
    "\n",
    "        batch = torch.from_numpy(batch).float().to(device)  # (batch, seq_len)\n",
    "        # 使用短序列的前12个值作为历史，最后一个值作为预测值。\n",
    "        x, label = batch[:, :6,:], batch[:, -1,:]\n",
    "        # print(x.shape)\n",
    "        x = Convolution_Net(x)\n",
    "        # print(\"Con:\",x.shape)\n",
    "        out, hidden = torch_lstm(x.view((x.shape[0], 6, -1)))  # out: (batch_size, seq_len, hidden_size)\n",
    "        # print(\"out:\",out.shape)\n",
    "        out = output_model(out[:, -1, :])\n",
    "        prediction = out  # (batch)\n",
    "        # print(prediction.shape,label.shape)\n",
    "        loss = loss_func(prediction, label)\n",
    "#         print(loss)\n",
    "        optimizer.zero_grad()\n",
    "        loss.backward()\n",
    "        optimizer.step()\n",
    "\n",
    "        trained_batches += 1\n",
    "        train_log.append(loss.detach().cpu().numpy().tolist())\n",
    "\n",
    "        train_batch_time = (time.time() - batchstart)\n",
    "\n",
    "        # 每训练一定数量的batch，就在测试集上测试模型效果。\n",
    "        if trained_batches % 100 == 0:\n",
    "            print('batch %d, train_loss %.6f,Time used %.6fs'%(trained_batches, loss,train_batch_time))\n",
    "            print('batch %d, train_loss %.6f,Time used %.6fs'%(trained_batches, loss,train_batch_time),file=f)\n",
    "            #每一个batch的开始时间\n",
    "            batch_test_start = time.time()\n",
    "            #在每个epoch上测试\n",
    "            all_prediction = []\n",
    "            for batch in next_batch(test_set, batch_size=128):\n",
    "                batch = torch.from_numpy(batch).float().to(device)  # (batch, seq_len)\n",
    "                x, label = batch[:, :6,:], batch[:, -1,:]\n",
    "                x = Convolution_Net(x)\n",
    "                out, hidden = torch_lstm(x.view((x.shape[0], 6, -1)))  # out: (batch_size, seq_len, hidden_size)\n",
    "                out = output_model(out[:, -1, :])\n",
    "                prediction = out  # (batch)\n",
    "                all_prediction.append(prediction.detach().cpu().numpy())\n",
    "\n",
    "            all_prediction = np.concatenate(all_prediction)\n",
    "            all_label = test_set[:, -1]\n",
    "            # 没有进行反归一化操作。\n",
    "            #all_prediction = denormalize(all_prediction)\n",
    "            #all_label = denormalize(all_label)\n",
    "            # 计算测试指标。\n",
    "            rmse_score = math.sqrt(mse(all_label, all_prediction))\n",
    "            mae_score = mae(all_label, all_prediction)\n",
    "            mape_score = mape(all_label, all_prediction)\n",
    "            test_log.append([rmse_score, mae_score, mape_score])\n",
    "            test_batch_time = (time.time() - batch_test_start)\n",
    "            print('***************************test_batch %d, test_rmse_loss %.6f,test_mae_loss %.6f,test_mape_loss %.6f,Time used %.6fs'%(trained_batches, rmse_score,mae_score,mape_score,test_batch_time))\n",
    "            print('***************************test_batch %d, test_rmse_loss %.6f,test_mae_loss %.6f,test_mape_loss %.6f,Time used %.6fs'%(trained_batches, rmse_score,mae_score,mape_score,test_batch_time),file=f)\n",
    "\n",
    "#计算总时间\n",
    "timesum = (time.time() - timestart)\n",
    "print('The total time is %fs'%(timesum))\n",
    "print('The total time is %fs'%(timesum),file=f)\n",
    "f.close()"
   ]
  },
  {
   "cell_type": "markdown",
   "source": [],
   "metadata": {
    "collapsed": false
   }
  },
  {
   "cell_type": "markdown",
   "source": [],
   "metadata": {
    "collapsed": false
   }
  },
  {
   "cell_type": "code",
   "execution_count": 165,
   "metadata": {
    "pycharm": {
     "name": "#%%\n"
    }
   },
   "outputs": [
    {
     "data": {
      "text/plain": "<Figure size 432x288 with 1 Axes>",
      "image/png": "[encoded data removed]"
     },
     "metadata": {
      "needs_background": "light"
     },
     "output_type": "display_data"
    },
    {
     "data": {
      "text/plain": "<Figure size 432x288 with 1 Axes>",
      "image/png": "[encoded data removed]"
     },
     "metadata": {
      "needs_background": "light"
     },
     "output_type": "display_data"
    },
    {
     "data": {
      "text/plain": "<Figure size 432x288 with 1 Axes>",
      "image/png": "[encoded data removed]"
     },
     "metadata": {
      "needs_background": "light"
     },
     "output_type": "display_data"
    },
    {
     "data": {
      "text/plain": "<Figure size 432x288 with 1 Axes>",
      "image/png": "[encoded data removed]"
     },
     "metadata": {
      "needs_background": "light"
     },
     "output_type": "display_data"
    }
   ],
   "source": [
    "#train_loss曲线\n",
    "x = np.linspace(0,len(train_log),len(train_log))\n",
    "plt.plot(x,train_log,label=\"train_loss\",linewidth=1.5)\n",
    "plt.xlabel(\"number of batches\")\n",
    "plt.ylabel(\"loss\")\n",
    "plt.legend()\n",
    "plt.savefig('./figure/1.4torchLSTMtrainloss1_RNN.jpg')\n",
    "plt.show()\n",
    "#plt.clf()\n",
    "#test_loss曲线\n",
    "x_test= np.linspace(0,len(test_log),len(test_log))\n",
    "test_log = np.array(test_log)\n",
    "plt.plot(x_test,test_log[:,0],label=\"test_rmse_loss\",linewidth=1.5)\n",
    "plt.xlabel(\"number of batches*100\")\n",
    "plt.ylabel(\"loss\")\n",
    "plt.legend()\n",
    "plt.savefig('./figure/1.4torchLSTMtestrmseloss1_RNN.jpg')\n",
    "plt.show()\n",
    "#plt.clf()\n",
    "\n",
    "#test_loss曲线\n",
    "x_test= np.linspace(0,len(test_log),len(test_log))\n",
    "test_log = np.array(test_log)\n",
    "plt.plot(x_test,test_log[:,1],label=\"test_mae_loss\",linewidth=1.5)\n",
    "plt.xlabel(\"number of batches*100\")\n",
    "plt.ylabel(\"loss\")\n",
    "plt.legend()\n",
    "plt.savefig('./figure/1.4torchLSTMtestrmaeloss1_RNN.jpg')\n",
    "plt.show()\n",
    "#plt.clf()\n",
    "\n",
    "#test_loss曲线\n",
    "x_test= np.linspace(0,len(test_log),len(test_log))\n",
    "test_log = np.array(test_log)\n",
    "plt.plot(x_test,test_log[:,2],label=\"test_mape_loss\",linewidth=1.5)\n",
    "plt.xlabel(\"number of batches*100\")\n",
    "plt.ylabel(\"loss\")\n",
    "plt.legend()\n",
    "plt.savefig('./figure/1.4torchLSTMtestrmapeloss1_RNN.jpg')\n",
    "plt.show()"
   ]
  },
  {
   "cell_type": "code",
   "execution_count": 166,
   "metadata": {},
   "outputs": [
    {
     "data": {
      "text/plain": "<Figure size 432x288 with 4 Axes>",
      "image/png": "[encoded data removed]"
     },
     "metadata": {
      "needs_background": "light"
     },
     "output_type": "display_data"
    }
   ],
   "source": [
    "#train_loss曲线\n",
    "x = np.linspace(0,len(train_log),len(train_log))\n",
    "plt.subplot(2, 2, 1)\n",
    "plt.plot(x,train_log,label=\"train_loss\",linewidth=1.5)\n",
    "plt.xlabel(\"number of batches\")\n",
    "plt.ylabel(\"loss\")\n",
    "plt.legend()\n",
    "\n",
    "#test_loss曲线\n",
    "x_test= np.linspace(0,len(test_log),len(test_log))\n",
    "test_log = np.array(test_log)\n",
    "plt.subplot(2, 2, 2)\n",
    "plt.plot(x_test,test_log[:,0],label=\"test_rmse_loss\",linewidth=1.5)\n",
    "plt.xlabel(\"number of batches*100\")\n",
    "plt.ylabel(\"loss\")\n",
    "plt.legend()\n",
    "\n",
    "#test_loss曲线\n",
    "x_test= np.linspace(0,len(test_log),len(test_log))\n",
    "test_log = np.array(test_log)\n",
    "plt.subplot(2, 2, 3)\n",
    "plt.plot(x_test,test_log[:,1],label=\"test_mae_loss\",linewidth=1.5)\n",
    "plt.xlabel(\"number of batches*100\")\n",
    "plt.ylabel(\"loss\")\n",
    "plt.legend()\n",
    "\n",
    "#test_loss曲线\n",
    "x_test= np.linspace(0,len(test_log),len(test_log))\n",
    "test_log = np.array(test_log)\n",
    "plt.subplot(2, 2, 4)\n",
    "plt.plot(x_test,test_log[:,2],label=\"test_mape_loss\",linewidth=1.5)\n",
    "plt.xlabel(\"number of batches*100\")\n",
    "plt.ylabel(\"loss\")\n",
    "plt.legend()\n",
    "plt.savefig('./figure/LSTM-4-photo.jpg_RNN.jpg')\n",
    "plt.show()\n",
    "#plt.clf()"
   ]
  },
  {
   "cell_type": "code",
   "execution_count": null,
   "metadata": {},
   "outputs": [],
   "source": []
  }
 ],
 "metadata": {
  "kernelspec": {
   "display_name": "Python(Pytorch_RL)",
   "language": "python",
   "name": "pytorch_rl"
  },
  "language_info": {
   "codemirror_mode": {
    "name": "ipython",
    "version": 3
   },
   "file_extension": ".py",
   "mimetype": "text/x-python",
   "name": "python",
   "nbconvert_exporter": "python",
   "pygments_lexer": "ipython3",
   "version": "3.7.13"
  }
 },
 "nbformat": 4,
 "nbformat_minor": 1
}